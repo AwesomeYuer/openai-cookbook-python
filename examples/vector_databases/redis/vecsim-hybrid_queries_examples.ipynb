{
  "cells": [
    {
      "cell_type": "markdown",
      "id": "cbba56a9",
      "metadata": {},
      "source": [
        "# Vector Similarity for RediSearch - Hybrid queries\n"
      ]
    },
    {
      "attachments": {},
      "cell_type": "markdown",
      "id": "5740c7a8",
      "metadata": {},
      "source": [
        "https://github.com/RediSearch/RediSearch/blob/master/docs/docs/vecsim-hybrid_queries_examples.ipynb"
      ]
    },
    {
      "cell_type": "markdown",
      "id": "323aec7f",
      "metadata": {},
      "source": [
        "## Python examples"
      ]
    },
    {
      "cell_type": "markdown",
      "id": "19bdc2a5-2192-4f5f-bd6e-7c956fd0e230",
      "metadata": {},
      "source": [
        "### Packages"
      ]
    },
    {
      "cell_type": "code",
      "execution_count": 4,
      "id": "09a8f030",
      "metadata": {},
      "outputs": [],
      "source": [
        "import numpy as np\n",
        "from redis import Redis\n",
        "from redis.commands.search.field import VectorField, TagField, NumericField, TextField\n",
        "from redis.commands.search.query import Query"
      ]
    },
    {
      "cell_type": "markdown",
      "id": "f8c6ef53",
      "metadata": {},
      "source": [
        "### Create redis client"
      ]
    },
    {
      "cell_type": "code",
      "execution_count": 5,
      "id": "370c1fcc",
      "metadata": {},
      "outputs": [],
      "source": [
        "host = \"localhost\"\n",
        "port = 6379\n",
        "\n",
        "redis_conn = Redis(host = host, port = port, password = \"2022db@Qwer\")"
      ]
    },
    {
      "cell_type": "code",
      "execution_count": 7,
      "id": "06c421de-00ee-42c5-8487-b46acd02950a",
      "metadata": {},
      "outputs": [],
      "source": [
        "# Index fields and configurations\n",
        "\n",
        "n_vec = 200000\n",
        "dim = 1536\n",
        "M = 40\n",
        "EF = 200\n",
        "vector_field_name = \"vector\"\n",
        "title_field_name = \"title\"\n",
        "genre_field_name = \"genre\"\n",
        "rating_field_name = \"rating\"\n",
        "k = 10\n",
        "\n",
        "index_name = \"hnsw-cosine-index-001\"\n",
        "\n",
        "distance_metric = \"cosine\"\n",
        "\n",
        "# delete_data(redis_conn)"
      ]
    },
    {
      "cell_type": "code",
      "execution_count": 8,
      "id": "da997470-4e8d-4d94-9c90-5aa009415699",
      "metadata": {},
      "outputs": [],
      "source": [
        "def load_docs(client : Redis, n, d):\n",
        "    for i in range(1, n+1):\n",
        "        np_vector = np.random.rand(1, d).astype(np.float32)\n",
        "        if i%5 != 0:\n",
        "            client.hset(i, mapping = {vector_field_name: np_vector.tobytes(),\n",
        "                                      rating_field_name: 10*(i/n),  # ratings ranges from 0-10, proportional the doc id\n",
        "                                      genre_field_name: \"action\",\n",
        "                                      title_field_name: \"matrix\"})\n",
        "        else:\n",
        "            client.hset(i, mapping = {vector_field_name: np_vector.tobytes(),\n",
        "                                      rating_field_name: 10*(i/n),\n",
        "                                      genre_field_name: \"action, drama\",\n",
        "                                      title_field_name: \"spiderman\"})\n",
        "        \n",
        "def delete_data(client: Redis):\n",
        "    client.flushall()\n",
        "    \n",
        "def print_results(res):\n",
        "    docs = [int(doc.id) for doc in res.docs]\n",
        "    dists = [float(doc.dist) if hasattr(doc, 'dist') else '-' for doc in res.docs]\n",
        "    print(f\"got {len(docs)} doc ids: \", docs)\n",
        "    print(\"\\ndistances: \", dists)\n",
        "        "
      ]
    },
    {
      "cell_type": "markdown",
      "id": "223d4a22-41bd-44cb-9c6f-02c16c07d5f2",
      "metadata": {},
      "source": [
        "### Create HNSW index with meta-data"
      ]
    },
    {
      "cell_type": "markdown",
      "id": "f09d6fe4",
      "metadata": {},
      "source": [
        "#### Every document in the index represent a movie review. The vector field is a text embedding of the review, while the other fields are some of the movie review metadata."
      ]
    },
    {
      "cell_type": "code",
      "execution_count": 9,
      "id": "3266495a-d2e1-450a-9590-959b368f013c",
      "metadata": {},
      "outputs": [
        {
          "name": "stdout",
          "output_type": "stream",
          "text": [
            "index size:  225000\n"
          ]
        }
      ],
      "source": [
        "# build HNSW index\n",
        "# delete_data(redis_conn)\n",
        "\n",
        "schema = (VectorField(vector_field_name, \"HNSW\", {\"TYPE\": \"FLOAT32\", \"DIM\": dim, \"DISTANCE_METRIC\": distance_metric}),\n",
        "          NumericField(rating_field_name), TagField(genre_field_name), TextField(title_field_name))\n",
        "redis_conn.ft(index_name).create_index(schema)\n",
        "redis_conn.ft(index_name).config_set(\"default_dialect\", 2)\n",
        "\n",
        "# load vectors with meta-data\n",
        "np.random.seed(42)\n",
        "load_docs(redis_conn, n_vec, dim)\n",
        "\n",
        "print(\"index size: \", redis_conn.ft(index_name).info()['num_docs'])\n",
        "\n",
        "query_vector = np.random.rand(1, dim).astype(np.float32)"
      ]
    },
    {
      "cell_type": "markdown",
      "id": "fce99677",
      "metadata": {},
      "source": [
        "## Hybrid queries examples"
      ]
    },
    {
      "cell_type": "code",
      "execution_count": 44,
      "id": "1722a6c0",
      "metadata": {},
      "outputs": [
        {
          "name": "stdout",
          "output_type": "stream",
          "text": [
            "b'\\xca\\x7fY?<\\xeb\\xa4>l\\x98\\xb4>U\\xcd6?\\xe6\\xb8\\x0e?\\x19\\x87\\xba>\\xd0\\xf6x>\\xc4\\xffW>w\\t7?\\xf5`R>\\xd4/\\xd0>\\x9a\\'T?_\\x80S?S\\x0e\\x94>\\x01\\xdb6?x\\xdb\\x1d?\\xfd\\xe2g?\\x14\\x84\\xdb>\\x8a;y?x\\xd7\\x04?:x\\x88>\\x9fn\\xbb=\\xdd\\x1f\\x87>gJ\\x94>12:>s\\xc2\"?\\xa1}r?p\\x1d\\x12?X\\xab\\xbd>|\\xff\\xdf>#\\x02\\xc0>\\x04\\xda\\x85=\\n\\x8b\\xcc=\\xda\\xbfy=\\x9e\\xb0\\x18?d\\x8d\\x13?\\xf4xA?e\\xbb0?\\xcc}\\x12?\\xb1\\xfdB>R{i?\\r\\x9b\\xf6>\\x1b\\xa3\\xb9>\\'\\x80Y?\\xa7\\x1e-?\\xb2\\x07 ?@\\xa0r>o5\\x08?\\x08z\\xb6>\\xbb!\\x0e?x\\xdc.?\\xa1\\x91\\xbc9L\\xe5L>\\xf2\\xbex?\\xf74\\x9a>\\xcbSt?@iE?\\xb2#@?\\xda\\x01\\x9a>f5s?\\x82\\xe1D>\\x18D]>\\xb5E\\x14?\\xb2\\xa0A?\\xe8E>>\\x7f\\xa0Q?m\\x8f\\xa6<o6,?m\\xed^?uU\\xbb>\\x19\\x03u?\\xe562?g\\tZ?\\xe81\\xdc>z2u=\\xd9\\x8b\\xd4>\\xf7\\\\\\xf4>\\xfcHR>\\xd2-P?x\\\\\\xd9>\\xe6Lt?\\x96m\\x95=z\\xba\\x9b>/\\xb3E>w@\\xf6>\\xb7\\xbc\\xcb>\\xa4\\xd4{>\\xa3\\xdbn?\\xf7\\xfeg?\\x13\\xfe0?+\\x9d\\xda>\\xf0\"\\x10>\\x01I\\x08>\\x1d\\tL?\\xfe3\\xe2=\\xfd\\xcd~?\\xdf\\t\\xfe;v\\xfb4?\\xf7\\xbb\\x81>q\\xffL?\\x8f\\x00F?\"\\xa6\\xd2>\\xa5\\x97\\xa8=U\\xcaG>\\xe8\\xf46=:\\x85\\xd6>\\xcf\\xce(?\\xce\\xbc\\x1a?\\xf3\\x0ek?\\x17]n?\\x14]\\xb0;\\xf7\\xb7l?qv/>BR\\xd9>>\\xcf\\xa1>\\x890\\xcd>QFm?\\xe3\\x0eh?D\\xccz>4\\x9d\\xea<\\xb90Q?\\x1f\\xdb\\x1b>P\\xbbO?\\x8e8\\x95>tB=?\\xce\\x8c\\xf8>\\xac\\xfa1?\\xc4\\x8co?\\xa8\\x84\\x9d>6\\xf7l?\\xcd0(>D\"\\xa0>\\x03\\x1f[?\\x96rC?\\xf2\\x9fv?\\x92\\x95\\xf6>\\x8d\\xfc\\x8b>d\\x12\\x0c?6;y>G\\x8eO?[e\\x12>\\xa6\\xa5>>pT\\xe2<Vu??d\\x85\\x80>\\xbc\\x12\\xcd>a\\x13O=\\xbev\"?<\\x17\\x92=i\\x0c\\xe5>\\x8f\\x96\\x7f?$\\xe2w?\\xd13\\x93<+\\xd1P?\\xe5\\x171?T\\x0em?\\xd6\\xa4 =\\x18\\xeb\\xf1>\\x9e\\xc4\\xd1>\\t\\xeav?\\xcf\\xdbP?\\x97Y\\x15?\\xffR\\x84>\\x85:\\xd1=\\x8bq%?a\\x9cY?\\x92\\xd4c?\\xb4-o=O\\xb7\\xc0>h\\x11<>\\x05\\xa8\\xd8>8B\\x1c?\\x03\\xc1\\x05?\\xa7\\xa0\\xd8>\\x03\\xb0\\xb3<3\\x14\\xed>\\x16\\x0f=<\\xa9\\x16\\x81>F\\x9f\\xa5>\\xfe\\x91\\xb9>\\xec\\xff\\x01?\\x0b\\x8b\\xb7=h\\xe7\\'?\\x7f\\x04\\x97>\\xb8\\xdcA=\\xaeU\\x06<U\\xe6B?\\xaa\\x80\">\\xad&~?\\xff\\xea\\x97<\\\\\\x91O>\\xa7\\xef9>j\\x9e8?\\xa2\\xde\\x97>\\\\\\xb0f?\\xb0&n>\\xa5\\xbb\\xe8=Z\\xf4\\x99>]p\\t?V\\xf19?\\xf4\\x9b\\xd6>\\xd9 H?\\xa1/H?\\xb4tR?\\xea@\\xf0>v\\x97)>\\xd9\\xb8\\xd0>\\x11uB?\\x88\\xeb\\xd4>lF*=%\\x9e\\x17?\\x7f\\xdd->B\\xab\\x98>\\xe8\\x13n?)\\x81e>\\x17*~?\\x11;\\x99>\\\\WD?m\\rd?\\x01m\\x1c<\\xefu\\xc3>|\\xe8\\x1c?\\x1eN\\xe1=\\xd0#\\x0e>\\xea\\xc9}?\\xffL\\x08?DuS>\\xa9/\\xc5>\\x94uj?c\\xdb\\xe2>\\xc4\\xf3r?\\xe5\\xe7\\x88>%!\\'?\\xd4Cp>GL>?\\xac\\x15Q?\\x9f%\\xb4>vn_?\\x8c%`?yX$>\\xe30%?\\x90\\x12\\x05?u\\xa7D?\\x02\\x85=?9\\x862?>\\xf1\\n?c\\x84\\xd6>\\xa5EM?>(w?\\x9aej?\\x81\\x1b\\xbb>\\x90X\\xa1>\\xecI;?\\x16,d?\\xf4|4>\\x88\\x84c?\\xd8W6?&C\\xf3>8\\x1as>\\x069H?b?@?\\xd2}X>]\\xd79?\\xf2\\xb7I?\\xaaX\\x9b=y\\xea\\x14>J\\xdc\\xa2>\\xdf(&?\\xad\\xe4\\x15?h\\xd0K?\\xe1\\x8c\\xc3>\\x9e\\xe7\\x94>09\\xa5>f\\xdd\\x14?\\x1b!\\xe3=\\x96S\\xb7>\\xd23G?\\xa2\\x99\\x0b?\\x07\\x81y?\\xdf\\xca\\x00?\\xe7\\x84l>\\x97\\xe2\\x13?L/7?\\xa9z|>\\x1b\\xe9V?oTC?\\xaaT>?TF\\xcb=hVz?\">\\xcf>\\xa1\\xad\\xfc>\\x10ur?uR[?\\xa7\\xf14>WS\\xf8=;q\"?\\xee\\xc8B?~Vb?\\xba^\\xfb=\\xe8\\xcft?4\\xd2-?\\xdb\\xf8o?AM\\xc0>\\xcf\\x81\\xf8=o\\xb5\\xaa=fx9?\\x80\\xb1D?<\\xb5\\xfe>\\xeb.l?\\x1a\\xf0X?Ok)>\\x17x\\xce>\\xf7\\xf1\\xfe>\\xc9\\x1f\\x99<\\x1f!\\xa3>\\xaf\\x81\\x7f>)\\xba\\xba=(f\\x0c?\\xb6za?\\xc0\\x03\\'?\\xcd\\xddf?x\\xc8x?\\'\\xf8\\x0f?\\x0e\\x88\\x97<\\xfd\\x9cn?e:@?\\xa6)z>\\x9e\\xbc\\t?\\xa2\\xfa;?\\x01\\xed\\\\>l\\x19\\xf0>\\x1e\\x813?\\x7f\\xd75?\\x8d\\xd1\\xcd<\\xa1FY?\\x85*\\x0b?\\xf4\\xef\\x8e=\\x98;[?Ynn=\\xed\\x13\\x04>\\x03\\x85\\x8c>\\xfe \\xa9>{CU?\\x9c8\\xe2>\\xca\\xc5\\x0c;\\x99e\\xb2>\\x93\\x1eW? \\x8f\\xd1=\\xa5Q\\xca>eh\\x8b>\\xe9\\xb1\\xca>.\\xf5\\x83>\\x03,\\xa3>\\xb7|\\x04?\\xb9\\xc7?>\\xf1\\xf4g?\\x02&\\x9f>Ac\\xa3>N\\x96\\x14<\\x8b\\xbaw?^F\"?\\xde\\x1f\\x86<\\x83\\xfc\\x05?\\xa6\\xa4c>\\x16\\xef\\x8b=\\x85w\\x18?!\\x90\\x06?\\xd5\\xc2y?\\x02\\x19$?\\x0c\\x9aF?X>_=\\x9d\\xf5b?\\xdb\\x8a\\r>\\xfe\\xcfY?\\x03\\xafY>\\x16\\xf4\\x1e>\\x047\\x14?RZU?|_N?\\x01\\x99\\x17?\\x8e\\xcc\\xe1>\\x83J\\x8f>G\\xd4`?jQr?\\x86\\x8a(?C\\x8ee?\\x9d\\n\\r?\\x020\\xeb=\\xe2\\x95\\x1a?\\xfe|\\\\?\\xf7\\xe1\\\\?\\t\\xb9:?j\\xc2]?\\x07\\x15t?\\x9d\\xd3+?\\x9d\\xab\\xd4>$\\xdc\\xf2<\\x02CR>\\xa6\\xd2t?\\x0f8t?\\xf7&X?\\xff\\xc7h>4\\x8ac?\\xadwf?\\xc4\\x04\\x15?\\xa4\\xeaq>P?\\xa9>8\\xaaA?\\x89_\\x8b>\\t\\x14\\xc3>Z\\xce\\x06?`y3>Bo\\xd3=\\x0f\\'x?\\xf3\\x91_?\\xd0\\x0b\\r?!%m>Q\\xee\\xf3>\\xbc\\xecn?`\\x08}??\\x80V?\\x8f\\x1bZ?\\xe9\\x8d\\xc8=;\\x1e\\xb8>-\\xc0\\xa8>n@\\xaf>l\\x03\\xd8>n\\x95\\x8d>\\t\\'\\xda>}\\xbf1? \\tt?\\x81\\x9bV>t\\x9d\\xdf<\\xed\\xca9?{\"\\xcf>\\xcd\\'\\x06>\\x0e\\xa1v?\\x9e\\x8c|?\\x99X0>%ln?\\x97\\x95\\x18?X\\xdcs?\\xc3\\xfa7?\\xb6LP?\\x86v\\xcc>2\\xda??\\xbe\\xd3\\x0f?$\\xd4[?\\xac\\xcd\\xce>\\xab\\xbd\\x98>\\x8e[!?h\\xa1x>[MB?l\\x9a\\xb6=\\xd8\\xf7a?\\x95\\xe2\\x19?1\\xa8p>\\x1a6\\x86>C#8>\\x919_>i#\\xa8>q%\\xf6>*\\xbe\\xa3>\\xa5\\xf2I>\\xe3+\\x18=1\\xd3\\x19?\\x18\\x058?\\xb5\\xce\\xec>o\\xfa.?\\x14\\xc8J? \\xd7\\xb6>:7j?.\\xb5\\x01?o\\xd0U?\\xe2I\\xfd=\\xd8kn<S\\x15l?\\x11\\x91R?z\\xae=?Yw\\x13>;\\x80\\xb8>\\xa2\\x10\\xe3>T\\xcb\\xc9>\\xf3\\x99\\x0b?\\xe9A\\x1e>\\xda\\xd01?\\xe4\\x11\\x1e?{\\x0eF?\\xff\\x99#?\\x00\\xbd\\x99>c%\\x0b>\\xf2_\\x1d?N\\xf8\\x9f>A4U>\\xa5\\x80\\xf5>\"L\\x02?\\xaf\\x11\\x11?|\\xa80?>\\xdd\\x15>X\\xe8|>\\xb3\\xaeD>\\xbe\\xf0\\xe8=1\\xc0\\xd7>\\xcf\\xf2_>$O\\xb6>6\\x95<?\\x16\\xf3\\x05>.$0?.\\xdb<?\\xe9m\\xd8<\\xf1\\x94\\':\\xa7\\xc3\\x1b?GK\\xd1>\\x89\\xc9\\xf9=h\\x06m?\\xbfMU?Xr\\x1d?5\\x9b\\x08=\\xa2\\xb9\\xe2>\\xa4\\xb2\\x18=\\x92\\xb4T>\\xc0\\xecF?\\x12\\xce\\xda>p\\xb6\\x03<\\xbd\\x11\\xa9>v4z>\\xf5\\x12\\x1a?\\xc6\\xb2\\x08?\\xb5UY?^E[>Ux\\x04>nfK?\\x9b\\xa2\\xe1>\\xa3IC?\\xcbN\\xd8>\\xb4;#?9I\\x9f>\\x08\\xeb\\x1d>_\\xabh?\\xe39\\x87=\\xce(\\x12=\\xbf\\n\\\\?n\\xcd\\x10?*\\xe1,>5\\xcc~?\\xab\\x1br?H\\x9d\\x01?C\\nS?\\xd5\\x854?F\\\\q>M\\xcc-?/V\\xbf>\\xa3\\x88\\x11>z\\x9c1?\\x9f\\x03%=W\\xaf\\x1b?\\xc77\\x1f?\\x14mU>\\xc8\\xcfp?A\\x80\\x02?\\x92=\\n?E\\x8bb?\\xd4\\x1f\"?`/\\xc9=8\\x15V?+2w?\\xa0\\x10\\x08>\\x00U\\xdd>E\\x1e\\xf8>\\xc0\\x1fV>!;\\xf8>5\\xc8t?\\xaceP?\\x17\\xbba?[\\xe8\\xa3>\\xd7\\xcbR?\\xf5\\xfad>\\xc3z\\xec>\\x00\\xd4\\x05?(\\x1aV?1F\\xbc>a\\x1c=?\\xa6,\\xa9>\\xc8{\\xb0>\\xb9|\\x17>{\\xc0l=\\xfa\\x7f0?E\\x86&?\\xa6\\xc39?P\\t\\x81>\\xb3eJ=7u\\xe9>\\\\d\\xea>3p\\x1c?\\xd0\\xec#?\\xe6;\\x0f?\\xaf\\x07|=\\xcf\\x8d\\xea>p\\xcc\\x16>\\x9d\\xcb\\x9c>\\xbd^\\xba>Q\\xb2\\x85>\\x9e!]?c\\xde\\x19?\\xb9QQ?\\x8fK7?b;\\x01?\\xcb\\xb4/>,A\\x84=\\x87\\xf5c?\\xf5\\x83\\xac>Zq\\x16?\\x15\\xd3\\x7f?\\xed\\x02\\x95>EP!?[Q1?n%q?\\xc2\\xe1z?\\xbe\\x8f\\xe3>\\xca\\\\\\x16?9t\\x04?o\\xf6\\xde=\\x84\\xb7*=\\x84\\x98\\x10=\\xf3\\x10\\xd8>\\xeb#X?\\x91Gq?\\x18\\'z?.\\xd5[?\\xe5\\xda\\x10>d*\\xbc>\\xe0\\xc5)?\\xe3\\xd8\\x08>r/&?\\x18\\x15h?\\x02]\\xc4>6V\\x8f>\\x8fS\\'?%\\xe8\\x07?m\\x94\\xea=\\x8f\\xe24?\\x9c\\x95\\x14?\\x85\\x83{?Q\\x8c%>\\x8a\\xe6\\xd0=\\x0f(\\x0c?\\xbd\\xbd\\'>\\xe4\\xcb\\x13>\\xef\\xf0K>\\xa6\\xe7\\xc9>\\xfcL\\n?\\xd8\\xb3\\x9e>\\x86+\\x8c>\\xd8\\x00L>\\xcb\\xe8\\x14?\\xaa\\\\\\xb1=\\x92\\x0ff=\\x8bR\\x80=\\x07\\x98\\r?\\x1dN\\xd6>\\x9aHg=k\\xde\\x90=z\\xf5\\x81>L\\xbeD?\\xb2\\xfb\\xf7>\\xaf?*?:\\xf4\\x8e>\\x9c\\xd9\\xfa>8\\xa60?\\x16\\xda:?e\\x168?r\\x1as>\\xd3\\xd0\\x81> \\x1c#?F(\\x12?\\xb8B\\n?\\x9e\\x03t=\\x04\\x10\\'?\\x94\\x9fZ?\\xde\\x1ah?\\xd6\\xb9v?wG\\x1e?\\tW\\xb9=5\\xe26?\\xa7\\xf2\\xba>\\x80\\xae5>w\\x98{?\\xea\\xeb\\x91>z\\xf5\\x9d>\\xa2Zr?\\x10\\xda9?pz\\xe3>\\xf2\\xaa\\x92>\\xc3%@?\\xd3\\xc5J?\\xb8\\x8d@?2\\x01\\x05?\\xaa\\xc9H?\\xdfC\\x0c?\\'\\xbf*?\\xbdmu?b3\\x07?\\x97\\xa6$?+l\\x81>\\xb8\\xa9\\xac>w\\xcc)?F!v?\\x88A\\x8b>\"\\x1eD?\\xe6{\\xed=p\\x1a\\xd9>\\xfd\\x93\\x19?\\xdb\\xfa\\x0b?@\\xb4t?\\x1e\\xef\\x9e=\\x9eA\\x88>$FA?x\\xef\\x01?\\xd1\\xbc\\x04?\\x19\\x97L?\\xb7v\\xe1>O\\x0f\\xe0=\\xea\\xe2T?\\x87C:?V\\xdaI>\\x92eO?\\xf9sK>`Be? K??Z\\x97[?\\xa6H\\xe7=\\xcfI9>|\\x00\\xcd=\\xb8\\xa5e>\\xb389>\\xca\\x0ej?\\xc8Y\\xd3>g\\x07R?v\\xc7W?\\xf8t\\xf6>*\\xd5\\xb9>\\'@\"?\\xeam+>kZ\\xaa=4\\xde.?\\xabx\\xad>Y\\xb5u?Z\\xef\\x1a?r\\xf9\\xa9>\\xa0Rc=S\\x8b\\xb2>\\x00\\xfb\\xf7=\\xa1Z*?\\x7f\\xc4l?\\xb0\\xad\\xd9=\\'\\x00k=V@\\xdb>\\xd1\\x15\\x83>\\xfc\\x04\\xa9>9\\xf4\\xab>\\x82l\\xdd>\\xa4b\\xf6>0_r?1\\x8b\\xa5><N\\xce>\\xe0I\\x08?h\\xa0\\xe5>Z4B?\\x06u\\xdb>HUw>\\xa1\\xc1D>\\xcf0\\xc0>\\xea.R?\\'\\xd1\\xac>\\x00>\\xa6>\\x8c\\x7f\\xd6>\\xb5j\\x00?\\xe6\\xc0\\xe7=\\xf7\\n0?1\\x92\\xc3;_\\x9fY?\\rPe?\\x80\\xd8\\xa3>\\xc0=\\xd0>\\xdb48>\\x9d\\xf6:>X=\\xb7>b\\x1bj>\\xdfY\\x08?\\xba\\xbf\\x1a?~\\x9aF?\\x05j\\x12?\\x9e9\\xb2>\\x93\\x83]?\\x1a\\xaei?\\xde!\\xc9>\\xd83\\xc2>\\xb9)E>\\x1e\\xb4\\xe0>\\x84\\x06\\x87>\\xc8\\xab>?d\\x88\\x0b?\\xa9D\\xab>\\x96`\\x96>\\xc6v\\x05?[\\xce\\x13?k\\xddA?\\xbd\\x9f=>\\xe5\\x0b@?k\\x82=?\\x0b\\x80\\x19?\\xa9c\\xb5>\\xac\\x1e\\x9f>2\\xb1{?a\\xe4N>\\x1e\\xb7\\xb0>K\\x01V?q\\xa9#?\\xd2\\xc3\\x12?\\xb7|\\\\>\\xa2\\x94\\r?\\xa3am>|\\xb7f?:\\xf6>?%\\xd3\\x84>\\x83\\xa6\\x0c?\\x80\\xd8p?\\xea 0?8\\xf1h>\\xd6<\\x0c?#\\x95\\x04>\\xdc\\x83\"?\\xa0,\\x10>/\\x80\\xb5>\\\\\\xcb`?5d\\xb2>1\\xb3\\x0b?R\\xae\\x0e?\\x893\\x18?\\x93\\xa6\\xff>`\\x9d\\xb2>\\xd5?=?a\\\\\\x06?\\xcd\\x02z?\\xb4\\x82X=\\x08@U?\\xe4\\xbb+?\\xd14\\xfc>\\x12\\xfen?\\x8b\\xdd}?\\xc4\\xbb\\x1a?n3x?U\\xbe\\x08?q\\xd6P?\\xaf\\xf6A?Ld\\xe8=]Kk>\\x80<?>d\\xe0@=\\x07\\x01\\x92>\\xaf\\x8d\\x8f>\\x91\\xd0\\xf6>0\\x9b\\x94>\\xc1i_?\\xa8\\x82\\xf1>vHc?/\\xe6\\xaf>\\xc7\\x98R?G\\xc9\\xbc>\\xc4\\xdb8?I\\xedx?x\\xb4g? \\xb5\\x1b?#\\xac.?\\xcf+a>\\x1c\\x84\\xec>hDs?b\\xda_?!\\xfc\\x14>\\x93\\xa1t?$\\xca\\x1c?d\\xa2m>\\x06w\\xfc>\\xd2\\xea\\x1c?+\\xc3F>\\xd7:T?\\x1c\\xe9{?:\\xd4??\\xefVe>\\x86\\xfeK>\\x9dq\\xd6>\\xd8\\xd8\\xa6> \\xc9\\xee>\\x9fa\\xb0>YlN?LC\\xe3>\\x00\\x17\\xb3=\\xec\\xeaR?U\\xb8t?+\\xf9\\x1d?\\xef\\x97<>\\x88\\xacI?\\xc5\\xfaS?\\x9a\\xb0\\x0f?\\xa3c,?\\xdf>0?\\xac<V?\\x90\\x16W?\\xbb\\x14B?\\xe1an<L\\x04d?{)\\x7f?\\xfc\\xa7^>\\x8a,\\x19?\\x9b\\x84\\x08?\\x9b\\xa3\\x16?\\xe1\\r\\x12?\\x94/t?\\x9d\\x87i=I\\xe6\\xb38\\x86\\x13\\xe4=\\xbaQ\\x07?\\xdc\\xd2\\x02>+\\xc7\\x1d?H\\x0fv?\\x13\\xf4\\xbd>zpo?Q\\x13\\\\?\\xa2\\xafB?\"IB?\\x18$C?Y\\xc6G?,2\\xf9=\\xfb\\x01\\x08?\\xb7g\\x1a?J\\xbc>?\\xaf`\\xff=v\\x90\\x10?D>)>\\xd4\\x13h?~\\x9b\\xaa=\\xe8\\x1dm?\\xb1)\\xff=\\xf4\\xe4\\x8c>)\\xa6\\x85>\\xf9h\\xaa>F\\x01\\xa6=\\xd8\\x87\\xc9>W+\\x84>\\xa5\\xbb4?\\xbc\\xb3\\xe7<\\x94\\xad&?\\x05\\xde8?\\xff\\xd8\\x18?\\xdb\\xecH?\\x9a\\xe9p?sOE?y\\xf7\\x86>2\\x05e?\\xd8q\\xfc;\\xa1R\\xdb>:A\\x05>\\x88\\x9f\\x8c>2h\\x01>\\xab\\xdb\\xeb>r\\x17j?\\x0b\\xbaC?\\xd1\\x81>?\\xf4j\\xd6>%\\x9d\\x18?zI\\xaa>\\xfbcM>\\x97\\x8a\\xd3>\\xecmq?\\x00\\x819>FJ\\xf1>%\\xac\\x9e>\\xe6\\xf9[?\\xc4\\x1d\\x06?<\\x15\\x19?\\x97%L?\\xb2Q\\x9c=R4F?W`\\xf3>w\\xfdK?\\x05C\\xcd>\\xda\\xd4C=\\xce\\x10\\x84>\\x19*r?%\\x00\\x0b?n\\x94\\xdb>\\xa7\\xd5\\xfa>\\xeei\\x0f?m\\x8a~?\\x16\\xed\\x90>\\xc3^\\xba>|\\x8b\\x85>\\x81;\\xd5>\\xc3\\x88v?\\xf3\\xdc\\xda=r\\xdb=?^\\x07I?\\x97=\\x9e>:\\xf1R?\\x83\\xf0\\xdf>e\\x08\\xed=sx\\x87>u\\x902?M\"q?\\xe1X\\x1f?|\\xd8M?k\\x84~?s\\x10l?\\xfeo\\x06?\\xa2\\xc3A?\\x0b;\\xa4=\\xb7m\\x8a>\\xc3\\xd5Y?\\xf1>r?M\\xaf6?u\\x88Q?\\x17/\\xdb>\\xceia?1\\xe7/?+\\xce\\\\?ilV?E\\xa5\\xa8>6\\xda@?\\xc0\\x19\\x19?\\xea/\\x85=\\xe7\\xd3I?\\t\\xe2\\x16>^\\xc9-?\\x85\\x98\\xf9>\\\\\\x8c3?\\xd3&r?\\xf1\\xd3\\n?\\xea\\x0c9?\\xd3M ?@\\xec\\xfb=?\\xb2n>\\x8c\\xb3\\xc9=$h\\xe3>\\xf1]\\x83>\\xf5V\\xe8<S\\x03J>BwR?\\xb1o\\xd8>\\x8dwj?H\\xd0^?\\x89\\x896?\\xa8\\xb4o>\\x97\\x14X?\\x17\\x07d?^\\xfdW?\\x96T->\\xb7z#?\\xb4\\n\\n?~\\x06}>\\xc9|\\x11?X\\xac\\xd2>^\\x9dc?\\xdcL\\xe9=\\x85=9?al\\xbd>F\\x89.=\\x17\\x0f1?y\\xba\\xd3>\\x84\\xee\\t?\\x18\\x85J?S\\xb0\\x8a>\\x94\\xcd\\xe4>d\\xb8\\x0e?EZC?\\xc8\\tJ?\\x8ej(>\\xf51U>x\\xc7j?\\xe1\\x90\\x02>\\x02\\xb66?k\\xb8&?\\xad\\xb2F>\\xa5#\\x9c>\\xda\\xb6\\x1e?!ET?,y3?D\\xe3f?\\xc8\\xfam>\\x9a\\xa3\\xe5>-\\xc6C?\\xd8I\\x17?_\\x94\\x11>\\xad\\x82@?\\xd3\\xe7A>\\x12\\xe4\\x02?\\xdd\\x08L?\\x9b\\x15P>\\xd1NO>\\xdc\\xf6B?\\x13\\xcb\\xbf>4\\xd3\\xd9>\\xc9Y\\xa7>\\x04|\\x01?\\x8d7\\x92>\\x03\\x12\\xf9=\\xd5\\x18;?\\xfd3J?$\\x13\\xc9>\\x05R=?\\xb3\\x82E>\\xd3W\\x8b<\\xcfx~?\\xc8,\\xc8=\\xc9\\x98\\n?\\x17T\\x0c?\\x979<?\\x1a6\\x1c?u,n>l\\xf2\\x95>\\xdf\\xde\\x0b?d4w>b\\xff\\x92>\\xe2h\\r>g\\xf9G?\\x06\\xa1\\x04>\\x06\\x93i?/\\x1b\\xf0=\\x16f\\xfc=\\x9cCf>\\xa9p\\xd7>x-\\xce>\"\\xee\\x12?\\x9b\\xb7@?~\\x8f\\x99>\\xe3\"\\xcc=~\\xee\\xd1>a\\t.?\\x9466?\\xdb9\\x12?\\x9cu/?M\\x89->\\xc6\\xac\\xc0=Sw\\xe3;f\\r/?\\xb8\\xaa\\x15?\\xd2(9?\\x1b\\xad\\xf6=\\x0c\\xea\\x08>\\xeas8?\\xfd\\xcfn?\\x87\\xb1$?\\xf6\\xb3n?:kI?\\x06\\x8e*>^<\\x90>%\\xf1\\xc4>\\xce\\xe1\\x9c>\\xdc\\xf7P?\\xaf\\xf6\\xa6>\\x0e\\xe8<?\\x94\\x96X?t\\te?\\xcd\\xear>\\x13\\xb1\\x04?p\\x94\\x98>\\xaaE\\x9b>b\\xd1\\x92>p\\x89\\x8a>W\\x04\\xf2>\\x99\\x7fQ>\\x13\\x15w?\\xdeP-?\\x93t\\x19?]\\x98\\xb2>\\x05CG?\\xb8\\xbc\\x00>\\xb3m3?\\xf7\\x0b\\x1a?\\xdf\\xabV?\\xcb\\xe4\\xdc=e\\xcf_?n\\xd8>?\\x8c\\xfa\\\\?\\x1a\\xf4Y?\\x97\\xc0\\x13?\\xef\\xdb\\xdf>\\x07U\\xdf>\\xc0\\xc7_?\\xed\\xb2\\x0c?\\xfb\\x12 ?6\\xdaK?\\xb9\\x8dH?\\x8a|Q?;\\x8f\\xe4>^\\xe4b?&\\xe1\\xb7>\\tn\\xea=Mr}?KvT>Z\\xba\\xfc>u@<?\"\\x98e?\\xa1)*>b\\x8bW?=\\x04L?\\xbf\\x8cn>\\xc5S\\x8f>Od4?\\x99\\x01\\x13?\\xbe\\xa9\\x9b>\\x93zp?\\x8cwQ?P\\xf0\\x9f>\\'G ?\\xf9\\x06\\x0b?\\x9f 9?\\x9a\\x06\\xb5>\\xb7q\\xf4>\\xc6/\\t?\\xa8\\x98\\x01?a\\x07\\xe6>\\x82]\\xf4>\\x00\\xec\\xa0>\\x158\\x1a?\\x9b\\xa2\\xd3>\\xa54\\xf2>Vs!>\\x14\\xe6`?y\\x97N?\\xa4l\\x8f=\\x80\\xf2\\xb6>9\\xdaO?x\\xfd\\x9b>}\\x1bS?\\xb5,\\xd0=D\\xd9\\xb6>Z\\xf1\\xe1<\\x1f;i>\\xb2\\xc03?#\\xd2\\x15?\\x81\\xa6;?\\xc8\\xd4B?F\\x00{=3\\n(? \\xd9j>LPH>\\xe3\\xaed?\"\\xf2\\x1b>\\xcb\\xe2\\x01?\\x03\\x9b+>55\\n>c\\x1dk>\\x83\\x16 >\\xa1\\xa2e>\\xdc\\xf6\\x7f>\\x0fuw?\\x14\\xd6\\x04?0 ,?\\x92\\xfdO?V\\xe7:?\\x00F\\x01?\\xa0\\xc1e?\\xb7\\xcc\\x02?\\xdf\\x81H?\\x08V7?c\\r}>\\xa9v\\x02?B\\xc1\\xd9>\\xe6,\\x01>8\\xc53?c1\\x01?X:d?\\xda\\xe3{?\\xf5\\xa39?\\xa3\\xc7\\xd5=\\xa8\\x8a\\xdc<\\xca\\xea\\xc0>\\x9bl\\xf3>$\\xb2\\x86>7\\xe5?>7q\\xa4=Vp\\x01?\\r\\xe6K?\\xab\\x1ei>p!\\xc2>\\x8aL(?\\x12\\x12g?k\\xbfn>f\\xa5\\x07>,\\xf8\\x15?\\x80\\xf7\\xe7>X\\r\\xf2>p+V>\\xd9kL?u/h?\\xf9\\x13,>\\x96\\xb0(?\\xd7\\xe0\\x0b?\\xde/\\x03?9\\x19\\xde:\\xce\\x8d\\x13?tVA>/\\xc3\\x1a?\"\\x18t?\\xf8\\xbbP?\\xbd\\xe5\\x03?\\x05\\x84V?aD\\xfd=\\x82W\\xdb>w\\xa8\\x7f?\\xaf\\x14O?i\\x03\\x88>\\x86\\x9c}?\\xca\\xb10?\\x90\\x98u?\\xe8P`?\\x80*E>\\xfa\\x11J?\\xda\\xda/?\\xa3\\x80V?\\x81\\xd4\\x98>)\\x0eG?\\x04\\xf0-?\\xed0\\x14?-\\x17F={0C>\\xafE(?F\\x80_?\\x17\\x01L?\\xf0I|>\\x89\\xae\\x12?\\xb2\\x80z?\\x9a\\xb3/?\\x84\\x8d\\x96>\\xe0_U=\\x00\\xfcI?\\xc7H\\x0b?\\x0fo\\x03>2\\x01\\x1a>\\xa3\\xf3\\x01?k]\\xe2><AW?\\x98\\xf8\\x1f?\\xc6\\xb5\\x11?Q\\xc2[?\\x0e%\\r>2\\x8b\\xba>^;i?xM}>\\xe4B\\x13?\\xb2\\xab%?\\xe8=c?d\\x0e\\xcc>\\xc4\\x15#?\\xb7\\x9c;?\\x85p[?\\xa29U?\\x06\\x93\\x0e?\\xc3\\x96\"=\\'P|?\\x0c\\x18E?\\x9ek\\xe8>\\x1b!\\x1c?\\x11\\xa4\\t?\\xdb\\xfdL?\\x8a\\x00C?\\xe0\\xa7\\x03?\\xd2\\xb8\\xda=\\xf3\\x98\\x1e?Do\\xad>%\\xbbx>\\xa0{L?\\x18\\x8a>?\\xe0,\\x96=pi:?D\\xea+?8\\xdf\\xaa>\\xedN<?4\\xe6c?0}\\xf9>\\x82?e?\\x7f\\xcb\\xca>\\x1d\\xd4Q>D\\xa2\\xaa>\\x83\\x91\\x18?\\xa0<\\xd7>\\xa9\\xf9w?\\xd5K\\x17>\\xa0\\x7f\\x1e?%\\x06X=\\x86d\\x08>\\xa8Q\\xef>\\x1e\\x1dD>\\xf2\\x05\\xc4>\\xcb\\xd0\\n>M\\x18\">0\\xf9#?.9\\xc0>e\\tJ?2\\xd6\\xef>\\t\\xea8?\\xaa3\\xad>RL\\x15?\\\\\\xbf\\x08>\\x12P\\xab>\\x9b`g?k\\xaf\\xa1>w\\xeeA?\\xd1@\\x14>\\xb2&\\xfd>6\\x9a~>k\\xde\\x7f>a\\x1fF?dy5?/_\\xd2>\\xc9\\xac\\x14>\\xe4uC>\\xb5\\xfda?\\xcb\\xabw?2\\x14|?\\x98\\xb6\\xac>\\x11\\xa6z?\\xfaeQ=Xw\\xd8>N]\\x8b>\\xed\\x19S?\\x9f\\x9eD>uu\\xab>\\xaej\\x1a?\\x9a\\xb5\\xad=\\xfd\\xb9\\xe6>\\x14Pc?k\\xb6\\xf3>HJ\\xc0>J0Z>\\x8cq\\t?6\\xcbK>\\x89\\xd8<?\\x04\\xb4\\xae>\\xec\\x01\\xe5>,\\x0e\\xeb=\\xd0\\xacN??/\\x9f=\\xff\\n3>\\xd9\\xd1\\x16;\\xd6\\xd4<?\\x81\\t?=\\x07\\xe9i>\\x18\\xb6\\x02?\\x89{x?6~\\xde==\\xe3\\t?\\xe0\\x82\\x03?.\\x9e\\xba=\\x7f\\xd5D?.\\xb7R?\\x95/\\xba>>\\x80\\x1c?\\xa9\\x0e\\x9f=I\\x02#?\\x10U8;O\\xe3??\\xbf\\x15\\x98<\\x9a\\xd5i?\\x18\\xc3c?z\\x84Q?\\x9d\\x08\\x04>d\\xaf\\x95=\\xd8vU?Z\\xf4S?\\xc0\\xd4\\r?\\x7f\\x06z?\\x84\\xd8\\x18?\\xc0\\xcd7?I\\xb0\\x07>\\x8c\\x10_?(\\x18\\x10?\\xf0\\xc7\\xaf>D$,?+GU?DoW?\\x81\\xfc\\r?.\\xf7\\xc2>e\\xb78>\\xf0\\xdaL?8\\xa3P?;\\xf4C?\\xdb\\xda\\xf6>\\xd2RC?\\r\\xf7\\xfd>\\xa4\\x90C?#\\x91F?\\x81\\xb1^?,{N?\\t\\x85\\xe3=\\x8e%C?kk\\x19?\\x17\\x14+?\\x97\\xd0M?\\xc0\\xf9\\x1d?\\x9d\\x9d\\xd3>Vj\\xc3>\\x07\\xfd\\x07?\\x1f\\x194?\\x01\\x85\\r?\\xc2MD?\\xba\\xdb\\x19=\\xe6\\x9c6?!`_?y\\xb4\\xf1<\\x8e\\x077?/\\x15\\t?\\x1aQ\\x83>\\xfd\\x8e\\x07?\\n\\x19\\xd3>\\x95\\x89??\\x97\\xb1A?\\xe3c}?_\\xdbs>\\xaal>>\\x17\\x87\\xb0>\\xafJf?\\x95\\xee\\x0e?\\xd5\\xa8\\x1a=b\\x19x>:\\xce\\x8f>\\xcb\\xe2E?$!\\x7f?\\x86\\x16x?]\\x82\\x7f?\\xd6\\x992>\\x97<4>\\xd4{\\x0f?\\xda\\xf9\\xce>\\x94\\xb5\\x98>\\x99\\x1dI>'\n",
            "got 2 doc ids:  [54973, 31508]\n",
            "\n",
            "distances:  [0.215136826038, 0.221581101418]\n"
          ]
        }
      ],
      "source": [
        "# Give me the top 10 reviews on action movies similar to mine\n",
        "\n",
        "q = Query(f'(@{genre_field_name}:{{action}})=>[KNN 2 @{vector_field_name} $vec_param AS dist]').sort_by('dist')\n",
        "res = redis_conn.ft(index_name).search(q, query_params = {'vec_param': query_vector.tobytes()})\n",
        "\n",
        "print(query_vector.tobytes())\n",
        "\n",
        "# zzz = np.array([[0.1, 0.2]])\n",
        "\n",
        "# print(zzz.tobytes())\n",
        "\n",
        "print_results(res)"
      ]
    },
    {
      "cell_type": "code",
      "execution_count": 13,
      "id": "d2f48df5",
      "metadata": {},
      "outputs": [
        {
          "name": "stdout",
          "output_type": "stream",
          "text": [
            "got 10 doc ids:  [5126, 6268, 5390, 5085, 6741, 6251, 5239, 5487, 5194, 5595]\n",
            "\n",
            "distances:  [14.7560760961, 15.2173650941, 15.7935849617, 15.8196561477, 15.8495724098, 15.8533288875, 16.0165456443, 16.0417755318, 16.0750138339, 16.2356399735]\n"
          ]
        }
      ],
      "source": [
        "# Give me the top 10 reviews on action movies similar to mine that got ratings between 5 and 7.\n",
        "# (ids 5000-7000)\n",
        "\n",
        "q = Query(f'(@{genre_field_name}:{{action}} @{rating_field_name}:[5 7])=>[KNN 10 @{vector_field_name} $vec_param AS dist]').sort_by('dist')\n",
        "res = redis_conn.ft(index_name).search(q, query_params = {'vec_param': query_vector.tobytes()})\n",
        "\n",
        "print_results(res)"
      ]
    },
    {
      "cell_type": "code",
      "execution_count": 14,
      "id": "b2284b3b",
      "metadata": {},
      "outputs": [
        {
          "name": "stdout",
          "output_type": "stream",
          "text": [
            "got 10 doc ids:  [5390, 5085, 5595, 6695, 6285, 5765, 6595, 5795, 5790, 5550]\n",
            "\n",
            "distances:  [15.7935849617, 15.8196561477, 16.2356399735, 16.4198694829, 16.4199152798, 16.4874357724, 16.59035834, 16.657459116, 16.6816978817, 16.786226798]\n"
          ]
        }
      ],
      "source": [
        "# Give me the top 10 reviews on a Spiderman movie that are similar to mine and got ratings between 5 and 7.\n",
        "#(ids 5000-7000 divided by 5)\n",
        "\n",
        "q = Query(f'(@{title_field_name}:spiderman @{rating_field_name}:[5 7])=>[KNN 10 @{vector_field_name} $vec_param AS dist]').sort_by('dist')\n",
        "res = redis_conn.ft(index_name).search(q, query_params = {'vec_param': query_vector.tobytes()})\n",
        "\n",
        "print_results(res)"
      ]
    },
    {
      "cell_type": "code",
      "execution_count": 15,
      "id": "fb3dce42",
      "metadata": {},
      "outputs": [
        {
          "name": "stdout",
          "output_type": "stream",
          "text": [
            "got 10 doc ids:  [9386, 83, 5126, 9572, 3492, 6268, 3949, 4437, 1057, 557]\n",
            "\n",
            "distances:  [14.5484484676, 14.7082952384, 14.7560760961, 14.8371418493, 14.9124708649, 15.2173650941, 15.3307324484, 15.3791827069, 15.488778035, 15.4977867241]\n"
          ]
        }
      ],
      "source": [
        "# Give me the top 10 reviews on movies that aren't Spiderman that are similar to mine.\n",
        "#(all ids which are not divided by 5)\n",
        "\n",
        "q = Query(f'(@{genre_field_name}:{{action}} -@{title_field_name}:spider*)=>[KNN 10 @{vector_field_name} $vec_param AS dist]').sort_by('dist')\n",
        "res = redis_conn.ft(index_name).search(q, query_params = {'vec_param': query_vector.tobytes()})\n",
        "\n",
        "print_results(res)"
      ]
    },
    {
      "cell_type": "code",
      "execution_count": 16,
      "id": "ac5f2e13",
      "metadata": {},
      "outputs": [
        {
          "name": "stdout",
          "output_type": "stream",
          "text": [
            "got 10 doc ids:  [8770, 9386, 9572, 8400, 9396, 3655, 9526, 9353, 5390, 5085]\n",
            "\n",
            "distances:  [13.346961015, 14.5484484676, 14.8371418493, 15.4953163405, 15.6169647311, 15.6970910686, 15.722931204, 15.7777110313, 15.7935849617, 15.8196561477]\n"
          ]
        }
      ],
      "source": [
        "# Give me the top 10 reviews on a \"spiderman\" movie or movies with at least a 9 rating.\n",
        "#(ids which are divided by 5 or above 9000)\n",
        "\n",
        "q = Query(f'((@{title_field_name}:spiderman) | (@{rating_field_name}:[9 inf]))=>[KNN 10 @{vector_field_name} $vec_param AS dist]').sort_by('dist')\n",
        "res = redis_conn.ft(index_name).search(q, query_params = {'vec_param': query_vector.tobytes()})\n",
        "\n",
        "print_results(res)"
      ]
    }
  ],
  "metadata": {
    "kernelspec": {
      "display_name": "Python 3 (ipykernel)",
      "language": "python",
      "name": "python3"
    },
    "language_info": {
      "codemirror_mode": {
        "name": "ipython",
        "version": 3
      },
      "file_extension": ".py",
      "mimetype": "text/x-python",
      "name": "python",
      "nbconvert_exporter": "python",
      "pygments_lexer": "ipython3",
      "version": "3.8.10"
    }
  },
  "nbformat": 4,
  "nbformat_minor": 5
}
