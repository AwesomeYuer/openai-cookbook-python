{
  "cells": [
    {
      "cell_type": "markdown",
      "id": "cbba56a9",
      "metadata": {},
      "source": [
        "# Vector Similarity for RediSearch - Hybrid queries\n"
      ]
    },
    {
      "cell_type": "markdown",
      "id": "323aec7f",
      "metadata": {},
      "source": [
        "## Python examples"
      ]
    },
    {
      "cell_type": "markdown",
      "id": "19bdc2a5-2192-4f5f-bd6e-7c956fd0e230",
      "metadata": {},
      "source": [
        "### Packages"
      ]
    },
    {
      "cell_type": "code",
      "execution_count": 1,
      "id": "09a8f030",
      "metadata": {},
      "outputs": [],
      "source": [
        "import numpy as np\n",
        "from redis import Redis\n",
        "from redis.commands.search.field import VectorField, TagField, NumericField, TextField\n",
        "from redis.commands.search.query import Query"
      ]
    },
    {
      "cell_type": "markdown",
      "id": "f8c6ef53",
      "metadata": {},
      "source": [
        "### Create redis client"
      ]
    },
    {
      "cell_type": "code",
      "execution_count": 2,
      "id": "370c1fcc",
      "metadata": {},
      "outputs": [],
      "source": [
        "host = \"localhost\"\n",
        "port = 6379\n",
        "\n",
        "redis_conn = Redis(host = host, port = port, password = \"p@$$w0rdw!th0ut\")"
      ]
    },
    {
      "cell_type": "code",
      "execution_count": 3,
      "id": "06c421de-00ee-42c5-8487-b46acd02950a",
      "metadata": {},
      "outputs": [],
      "source": [
        "# Index fields and configurations\n",
        "\n",
        "n_vec = 10000\n",
        "dim = 128\n",
        "M = 40\n",
        "EF = 200\n",
        "vector_field_name = \"vector\"\n",
        "title_field_name = \"title\"\n",
        "genre_field_name = \"genre\"\n",
        "rating_field_name = \"rating\"\n",
        "k = 10"
      ]
    },
    {
      "cell_type": "code",
      "execution_count": 4,
      "id": "da997470-4e8d-4d94-9c90-5aa009415699",
      "metadata": {},
      "outputs": [],
      "source": [
        "def load_docs(client : Redis, n, d):\n",
        "    for i in range(1, n+1):\n",
        "        np_vector = np.random.rand(1, d).astype(np.float64)\n",
        "        if i%5 != 0:\n",
        "            client.hset(i, mapping = {vector_field_name: np_vector.tobytes(),\n",
        "                                      rating_field_name: 10*(i/n),  # ratings ranges from 0-10, proportional the doc id\n",
        "                                      genre_field_name: \"action\",\n",
        "                                      title_field_name: \"matrix\"})\n",
        "        else:\n",
        "            client.hset(i, mapping = {vector_field_name: np_vector.tobytes(),\n",
        "                                      rating_field_name: 10*(i/n),\n",
        "                                      genre_field_name: \"action, drama\",\n",
        "                                      title_field_name: \"spiderman\"})\n",
        "        \n",
        "def delete_data(client: Redis):\n",
        "    client.flushall()\n",
        "    \n",
        "def print_results(res):\n",
        "    docs = [int(doc.id) for doc in res.docs]\n",
        "    dists = [float(doc.dist) if hasattr(doc, 'dist') else '-' for doc in res.docs]\n",
        "    print(f\"got {len(docs)} doc ids: \", docs)\n",
        "    print(\"\\ndistances: \", dists)\n",
        "        "
      ]
    },
    {
      "cell_type": "markdown",
      "id": "223d4a22-41bd-44cb-9c6f-02c16c07d5f2",
      "metadata": {},
      "source": [
        "### Create HNSW index with meta-data"
      ]
    },
    {
      "cell_type": "markdown",
      "id": "f09d6fe4",
      "metadata": {},
      "source": [
        "#### Every document in the index represent a movie review. The vector field is a text embedding of the review, while the other fields are some of the movie review metadata."
      ]
    },
    {
      "cell_type": "code",
      "execution_count": 5,
      "id": "3266495a-d2e1-450a-9590-959b368f013c",
      "metadata": {},
      "outputs": [
        {
          "name": "stdout",
          "output_type": "stream",
          "text": [
            "index size:  10000\n"
          ]
        }
      ],
      "source": [
        "# build HNSW index\n",
        "delete_data(redis_conn)\n",
        "\n",
        "schema = (VectorField(vector_field_name, \"HNSW\", {\"TYPE\": \"FLOAT64\", \"DIM\": dim, \"DISTANCE_METRIC\": \"L2\"}),\n",
        "          NumericField(rating_field_name), TagField(genre_field_name), TextField(title_field_name))\n",
        "redis_conn.ft().create_index(schema)\n",
        "redis_conn.ft().config_set(\"default_dialect\", 2)\n",
        "\n",
        "# load vectors with meta-data\n",
        "np.random.seed(42)\n",
        "load_docs(redis_conn, n_vec, dim)\n",
        "\n",
        "print(\"index size: \", redis_conn.ft().info()['num_docs'])\n",
        "\n",
        "query_vector = np.random.rand(1, dim).astype(np.float64)"
      ]
    },
    {
      "cell_type": "markdown",
      "id": "fce99677",
      "metadata": {},
      "source": [
        "## Hybrid queries examples"
      ]
    },
    {
      "cell_type": "code",
      "execution_count": 31,
      "id": "1722a6c0",
      "metadata": {},
      "outputs": [
        {
          "name": "stdout",
          "output_type": "stream",
          "text": [
            "b'DPm\\x8ekB\\xc7?\\xe0\\xac\\xf5mN\\xe0\\xd5?\\x98\\x1f\\x01\\xca\\xf1y\\xe4?L\\x18\\x98\\x95\\xe0\\xb7\\xd2?8\\xf5\\x91?\\xdcL\\xdc?\\xe2B\\xe8\\x10\\xc6i\\xe4?\\xf4\\x9e\\xf8\\x18\\x9a\\xd5\\xc8?\\xf0\\x8e\\xdf\\x7fZ\\xb3\\xc6?j\\xecB/|\\xb8\\xd0?\\xecx\\x9axI\\xea\\xd8? \\xebbf\\xb3\\x03\\x99?\\xaecj\\x0e\\x820\\xe7?\\xf3Ac\\xa5\\xee/\\xed? \\xb2\\xc4\\xf9Y\\xcb\\xae?v\\xc0\\xaa\\xde\\x9e\\xe8\\xda?\\xabe\\xd0\\xd3\\xfe\\x14\\xe2?#\\xdb\\xaai\\xd9\\xa7\\xef?\\xe0\\xed\\xb0\\x9f\\x9c!\\xd0?\\xd4^\\x16\\xfc\\xbe\\x11\\xc0?\\x1c<\\xe7\\xcc\\x00\\xd9\\xd6?\\x97\\xbc+\\x02\\xc3\\xf6\\xe6?\\xfe\\xefb\\xb2W\\x1a\\xe4?\\xc6\\xceW\\xdc\\x15\\xf8\\xe0?\\xdc+1}\\xb9U\\xc8?\\xdbu\\xc4W\\x12\\xcc\\xea?T\\x80\\x16*\\xba<\\xed?\\x80Wn)\\x8c)\\xe4?\\xe4\\xc33\\xc3<\\n\\xcc?&\\xe6\\xe3\\xf4\\xe6J\\xd6?\\xe0\\x05Y\\xd8\\xb4U\\xe3?\\xfd\\xcax3Z\\xab\\xe1?\\xc4\\x96\\xfa^\\xac\\xa7\\xc3?\\xaey\\xff.\\xae\\x8d\\xde?\\x90\\x86\\x90\\xaa_m\\xb3?\\xce\\x14@K\\xb2h\\xdd?L\\x94\"\\xbd\\xfb\\xe7\\xdd?\\xb4\\xdb\\x08:|\\x1c\\xec?B\\xf0\\xdc\\x8d\\x1e\\x04\\xd0?\\xda\\x99\\xa0O\\x19\\x82\\xea?\\xc1\\xb6\\x89\\xef\\x18\\xce\\xe8?\\x9510f\\xfa\\xe8\\xe6?\\xc9.\\xda\\xa0\\x03R\\xe6?\\x88$\\x07\\xc3\\xb5\\xaa\\xcf?\\x88\\xacOz&\\x95\\xec?\\xf8i\\x0b\\x8cA\\xa8\\xb3?\\x8c\\x96\\xaf\\xdcOI\\xe8?\"\\xd5\\xa0zR\\xdd\\xd2?\\xa45\\xa6\\x8d\\x88Z\\xec?\\x96\"\\xf7A\\xfd?\\xeb?yDO\\xe2\\xcc\\xfd\\xed?\\xacs{\\x80\\x965\\xe2?@@\\x17\\xfa.\\xae\\x94?)\\xbe\\xb4\\x82X\\x0c\\xe9?\\x00t\\xf0:\\xb1[\\x9e?\\xf8\\x83\\x1a\\xe0\\xc1\\x17\\xd7?\\xb4<Y\\x97?A\\xcc?\\x0c\\xf1\\x1fu\\xe7\\xae\\xdd?\"\\xf1j\\x06\\xf9\\x0c\\xd6?\\xe4;\\xa2x\\x1b\\xb6\\xea?\\x8c\\x95\\xed]\\x89\\x8a\\xd7?\\x00\\xf4\\xdf2\\xcd\\xc5W?\\xb0w\\xfd\\xd5\\xd4\\x94\\xdc?\\xc0h\\xacl\\xea\\xb6\\x95?\\xac\\x8f/\\xf1k\\xc9\\xe7?\\xf8\\x89[\\xb3\\x92\\xd3\\xb9?\\xeb\\x10o\\'cB\\xe5?\\xdf\\xb6\\x98\\xd9\\x0b\\xc1\\xe5?@\\xa4\\x13\\x15\\xe9\\x1e\\xbb?\\xb9\\xad\\xf1 \\x0e\\xaa\\xe6?b\\xc6\\x1aD\\xb0\\xd1\\xe8?\\xfbs\\x00\\x14O(\\xee?\\x14y\\x13\\xfe\\x0f\\xd9\\xd8?N\\n[\\xc2]\\xb1\\xd8?\\x0fz\\x13\\x05\\x1dN\\xe0?N\\xaa\\xe8,\\x96\\xe5\\xda?)\\xfew\\xbe\\x1cn\\xe3?\\x14/L\\x1d\\x81Q\\xcf?\\xae0\\n\\\\\\xd6\\xc7\\xeb?\\x7f\\xf2\\xd6-\\x11U\\xed?\\x05\\xfa\\xbc\\x95\\x01\\x82\\xe9? J\\x87!HG\\xca?\\x95\\x82\\x85\\xa4\\xa2\\xa6\\xe9?\\xf0Ii\\x8e\\x92\\xe5\\xd5?@\\xfe\\x9c\\x1e\\x7f\\x05\\xe7?\\xf0Qv=2\\xc8\\xd6?.\"!J~\\xa7\\xdc?\\xce\\xfbV\\x19\\x02\\xcd\\xdf?\\xb45-\\xc0\\x85]\\xd7?E\\x9f^\\xd1\\xcc\\x92\\xec?`\\xb42o\\xbc\\x7f\\xc6?\\x00\\xc7uf`\\x15\\xc5?\\xceJ\\x828O\\x84\\xe7?\\x97\\x95\\xf0\\xdd[>\\xea?\\x18ai%V8\\xb3?/\\x93\\xed\\xb0\\xda\\r\\xe9?\\xee\\x9c\\xbb\\xcf\\xcao\\xd2?\\x88\\xd6\\xa4\\x0f{K\\xd3?\\x1f\\xbd\\xb9\\xc3\\xdf\\x9a\\xec?\\xae%H\\x0cG\\x14\\xef?\\xc4\\x04\\xc8er?\\xe6?Y\\x14\\xac+\\xc5)\\xea?\\'\\r\\xd8\\xe8\\xee\\x89\\xea?u$\\x83\\x1b\\xa1\\x18\\xe2?\\x80\\x18m\\rE\\x9e\\xe6?\\xde\\x04\\x80\\x08\\x9e\\x94\\xec?\\xc2E\\xdfO-J\\xe8?v\\xae4\\xdfB\\x08\\xd8?\\x00\\xb5\\xa4\\xa9]\\x17\\xca?\\x90\\x7f%J\\xf44\\xa9?@\\xdf\\x17\\x08\\xd5\\xb0\\xb5?\\xa3\\xec\\xf9\\xa4\\x99\\xbe\\xef?P\\x00\\x13\\x8a\\xecu\\xc2?\\x0cun\\xef\\xfb\\x81\\xe8?\\x92\\x00\\xa5\\xca\\xb8\\x1b\\xdd?X\\x13vfWH\\xc0?&HC\\xb0\\x9f\\xb9\\xe6?\\xa0|\\xd5.\\xe8Z\\xb3?e\\r]V\\xea\\xe3\\xe7?d\\x89\\xf0\\xed\\x9b\\x8e\\xc3?\\xd4\\xc3\\x8b\\xda\\x98T\\xd1?\\xce\\xcdU\\xe0\\x006\\xd1?\\x02\\xc3\\xfc\\xf1x(\\xe5?b\\xe2wK\\x9a\\x1b\\xe1?HF\\xc9Q\\x08z\\xc6?\\xf2\\xf2f{+\\x80\\xd0?0L\\xd0\\xec\\xa0\\x92\\xb8?\\x00/\\xa7\\xf5O\\xc0z?\\xf0\\xa7\\x01\\x88\\x83\\x82\\xcf?'\n",
            "b'\\x9a\\x99\\x99\\x99\\x99\\x99\\xb9?\\x9a\\x99\\x99\\x99\\x99\\x99\\xc9?'\n",
            "got 10 doc ids:  [8770, 9386, 83, 5126, 9572, 3492, 6268, 3949, 4437, 1057]\n",
            "\n",
            "distances:  [13.346961015, 14.5484484676, 14.7082952384, 14.7560760961, 14.8371418493, 14.9124708649, 15.2173650941, 15.3307324484, 15.3791827069, 15.488778035]\n"
          ]
        }
      ],
      "source": [
        "# Give me the top 10 reviews on action movies similar to mine\n",
        "\n",
        "q = Query(f'(@{genre_field_name}:{{action}})=>[KNN 10 @{vector_field_name} $vec_param AS dist]').sort_by('dist')\n",
        "res = redis_conn.ft().search(q, query_params = {'vec_param': query_vector.tobytes()})\n",
        "\n",
        "print(query_vector.tobytes())\n",
        "\n",
        "# zzz = np.array([[0.1, 0.2]])\n",
        "\n",
        "# print(zzz.tobytes())\n",
        "\n",
        "print_results(res)"
      ]
    },
    {
      "cell_type": "code",
      "execution_count": 13,
      "id": "d2f48df5",
      "metadata": {},
      "outputs": [
        {
          "name": "stdout",
          "output_type": "stream",
          "text": [
            "got 10 doc ids:  [5126, 6268, 5390, 5085, 6741, 6251, 5239, 5487, 5194, 5595]\n",
            "\n",
            "distances:  [14.7560760961, 15.2173650941, 15.7935849617, 15.8196561477, 15.8495724098, 15.8533288875, 16.0165456443, 16.0417755318, 16.0750138339, 16.2356399735]\n"
          ]
        }
      ],
      "source": [
        "# Give me the top 10 reviews on action movies similar to mine that got ratings between 5 and 7.\n",
        "# (ids 5000-7000)\n",
        "\n",
        "q = Query(f'(@{genre_field_name}:{{action}} @{rating_field_name}:[5 7])=>[KNN 10 @{vector_field_name} $vec_param AS dist]').sort_by('dist')\n",
        "res = redis_conn.ft().search(q, query_params = {'vec_param': query_vector.tobytes()})\n",
        "\n",
        "print_results(res)"
      ]
    },
    {
      "cell_type": "code",
      "execution_count": 14,
      "id": "b2284b3b",
      "metadata": {},
      "outputs": [
        {
          "name": "stdout",
          "output_type": "stream",
          "text": [
            "got 10 doc ids:  [5390, 5085, 5595, 6695, 6285, 5765, 6595, 5795, 5790, 5550]\n",
            "\n",
            "distances:  [15.7935849617, 15.8196561477, 16.2356399735, 16.4198694829, 16.4199152798, 16.4874357724, 16.59035834, 16.657459116, 16.6816978817, 16.786226798]\n"
          ]
        }
      ],
      "source": [
        "# Give me the top 10 reviews on a Spiderman movie that are similar to mine and got ratings between 5 and 7.\n",
        "#(ids 5000-7000 divided by 5)\n",
        "\n",
        "q = Query(f'(@{title_field_name}:spiderman @{rating_field_name}:[5 7])=>[KNN 10 @{vector_field_name} $vec_param AS dist]').sort_by('dist')\n",
        "res = redis_conn.ft().search(q, query_params = {'vec_param': query_vector.tobytes()})\n",
        "\n",
        "print_results(res)"
      ]
    },
    {
      "cell_type": "code",
      "execution_count": 15,
      "id": "fb3dce42",
      "metadata": {},
      "outputs": [
        {
          "name": "stdout",
          "output_type": "stream",
          "text": [
            "got 10 doc ids:  [9386, 83, 5126, 9572, 3492, 6268, 3949, 4437, 1057, 557]\n",
            "\n",
            "distances:  [14.5484484676, 14.7082952384, 14.7560760961, 14.8371418493, 14.9124708649, 15.2173650941, 15.3307324484, 15.3791827069, 15.488778035, 15.4977867241]\n"
          ]
        }
      ],
      "source": [
        "# Give me the top 10 reviews on movies that aren't Spiderman that are similar to mine.\n",
        "#(all ids which are not divided by 5)\n",
        "\n",
        "q = Query(f'(@{genre_field_name}:{{action}} -@{title_field_name}:spider*)=>[KNN 10 @{vector_field_name} $vec_param AS dist]').sort_by('dist')\n",
        "res = redis_conn.ft().search(q, query_params = {'vec_param': query_vector.tobytes()})\n",
        "\n",
        "print_results(res)"
      ]
    },
    {
      "cell_type": "code",
      "execution_count": 16,
      "id": "ac5f2e13",
      "metadata": {},
      "outputs": [
        {
          "name": "stdout",
          "output_type": "stream",
          "text": [
            "got 10 doc ids:  [8770, 9386, 9572, 8400, 9396, 3655, 9526, 9353, 5390, 5085]\n",
            "\n",
            "distances:  [13.346961015, 14.5484484676, 14.8371418493, 15.4953163405, 15.6169647311, 15.6970910686, 15.722931204, 15.7777110313, 15.7935849617, 15.8196561477]\n"
          ]
        }
      ],
      "source": [
        "# Give me the top 10 reviews on a \"spiderman\" movie or movies with at least a 9 rating.\n",
        "#(ids which are divided by 5 or above 9000)\n",
        "\n",
        "q = Query(f'((@{title_field_name}:spiderman) | (@{rating_field_name}:[9 inf]))=>[KNN 10 @{vector_field_name} $vec_param AS dist]').sort_by('dist')\n",
        "res = redis_conn.ft().search(q, query_params = {'vec_param': query_vector.tobytes()})\n",
        "\n",
        "print_results(res)"
      ]
    }
  ],
  "metadata": {
    "kernelspec": {
      "display_name": "Python 3 (ipykernel)",
      "language": "python",
      "name": "python3"
    },
    "language_info": {
      "codemirror_mode": {
        "name": "ipython",
        "version": 3
      },
      "file_extension": ".py",
      "mimetype": "text/x-python",
      "name": "python",
      "nbconvert_exporter": "python",
      "pygments_lexer": "ipython3",
      "version": "3.8.10"
    }
  },
  "nbformat": 4,
  "nbformat_minor": 5
}
