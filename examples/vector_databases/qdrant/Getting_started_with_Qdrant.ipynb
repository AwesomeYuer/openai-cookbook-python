{
 "cells": [
  {
   "cell_type": "markdown",
   "metadata": {},
   "source": [
    "# Using Qdrant as a vector database for OpenAI embeddings\n",
    "\n",
    "This notebook guides you step by step on using **`Qdrant`** as a vector database for OpenAI embeddings. [Qdrant](https://qdrant.tech) is a high-performant vector search database written in Rust. It offers RESTful and gRPC APIs to manage your embeddings. There is an official Python [qdrant-client](https://github.com/qdrant/qdrant_client) that eases the integration with your apps.\n",
    "\n",
    "This notebook presents an end-to-end process of:\n",
    "1. Using precomputed embeddings created by OpenAI API.\n",
    "2. Storing the embeddings in a local instance of Qdrant.\n",
    "3. Converting raw text query to an embedding with OpenAI API.\n",
    "4. Using Qdrant to perform the nearest neighbour search in the created collection.\n",
    "\n",
    "### What is Qdrant\n",
    "\n",
    "[Qdrant](https://qdrant.tech) is an Open Source vector database that allows storing neural embeddings along with the metadata, a.k.a [payload](https://qdrant.tech/documentation/payload/). Payloads are not only available for keeping some additional attributes of a particular point, but might be also used for filtering. [Qdrant](https://qdrant.tech) offers a unique filtering mechanism which is built-in into the vector search phase, what makes it really efficient.\n",
    "\n",
    "### Deployment options\n",
    "\n",
    "[Qdrant](https://qdrant.tech) might be launched in various ways, depending on the target load on the application it might be hosted:\n",
    "\n",
    "- Locally or on premise, with Docker containers\n",
    "- On Kubernetes cluster, with the [Helm chart](https://github.com/qdrant/qdrant-helm)\n",
    "- Using [Qdrant Cloud](https://cloud.qdrant.io/)\n",
    "\n",
    "### Integration\n",
    "\n",
    "[Qdrant](https://qdrant.tech) provides both RESTful and gRPC APIs which makes integration easy, no matter the programming language you use. However, there are some official clients for the most popular languages available, and if you use Python then the [Python Qdrant client library](https://github.com/qdrant/qdrant_client) might be the best choice."
   ]
  },
  {
   "attachments": {},
   "cell_type": "markdown",
   "metadata": {},
   "source": [
    "## Prerequisites\n",
    "\n",
    "For the purposes of this exercise we need to prepare a couple of things:\n",
    "\n",
    "1. Qdrant server instance. In our case a local Docker container.\n",
    "2. The [qdrant-client](https://github.com/qdrant/qdrant_client) library to interact with the vector database.\n",
    "\n",
    "### Start Qdrant server\n",
    "\n",
    "We're going to use a local Qdrant instance running in a Docker container. The easiest way to launch it is to use the attached [docker-compose.yaml] file and run the following command:"
   ]
  },
  {
   "cell_type": "code",
   "execution_count": 1,
   "metadata": {
    "ExecuteTime": {
     "end_time": "2023-02-16T12:04:28.198036Z",
     "start_time": "2023-02-16T12:04:26.950014Z"
    }
   },
   "outputs": [
    {
     "name": "stdout",
     "output_type": "stream",
     "text": [
      "qdrant_qdrant_1 is up-to-date\r\n"
     ]
    }
   ],
   "source": [
    "! docker-compose up -d\n",
    "\n",
    "! sudo docker run -d -p 6333:6333 -p 6334:6334 --name qdrant -v /userdata/temp:/share qdrant/qdrant"
   ]
  },
  {
   "cell_type": "markdown",
   "metadata": {},
   "source": [
    "We might validate if the server was launched successfully by running a simple curl command:"
   ]
  },
  {
   "cell_type": "code",
   "execution_count": 29,
   "metadata": {
    "ExecuteTime": {
     "end_time": "2023-02-16T12:04:29.301651Z",
     "start_time": "2023-02-16T12:04:29.173153Z"
    }
   },
   "outputs": [
    {
     "name": "stdout",
     "output_type": "stream",
     "text": [
      "curl: (7) Failed to connect to localhost port 6333: Connection refused\n"
     ]
    }
   ],
   "source": [
    "! curl http://localhost:6333\n",
    "\n",
    "! export http_proxy=http://127.0.0.1:8888"
   ]
  },
  {
   "cell_type": "markdown",
   "metadata": {},
   "source": [
    "### Install requirements\n",
    "\n",
    "This notebook obviously requires the `openai` and `qdrant-client` packages, but there are also some other additional libraries we will use. The following command installs them all:\n"
   ]
  },
  {
   "cell_type": "code",
   "execution_count": 1,
   "metadata": {
    "ExecuteTime": {
     "end_time": "2023-02-16T12:05:05.718972Z",
     "start_time": "2023-02-16T12:04:30.434820Z"
    }
   },
   "outputs": [
    {
     "name": "stdout",
     "output_type": "stream",
     "text": [
      "Collecting qdrant-client\n",
      "  Downloading qdrant_client-1.1.6-py3-none-any.whl (126 kB)\n",
      "\u001b[K     |████████████████████████████████| 126 kB 645 kB/s eta 0:00:01\n",
      "\u001b[?25hRequirement already satisfied: pandas in /home/microshaoft/.local/lib/python3.9/site-packages (2.0.0)\n",
      "Collecting grpcio-tools>=1.41.0\n",
      "  Downloading grpcio_tools-1.54.0-cp39-cp39-manylinux_2_17_x86_64.manylinux2014_x86_64.whl (2.4 MB)\n",
      "\u001b[K     |████████████████████████████████| 2.4 MB 4.4 MB/s eta 0:00:01\n",
      "\u001b[?25hCollecting pydantic<2.0,>=1.8\n",
      "  Downloading pydantic-1.10.7-cp39-cp39-manylinux_2_17_x86_64.manylinux2014_x86_64.whl (3.2 MB)\n",
      "\u001b[K     |████████████████████████████████| 3.2 MB 1.5 MB/s eta 0:00:011\n",
      "\u001b[?25hRequirement already satisfied: numpy>=1.21; python_version >= \"3.8\" in /home/microshaoft/.local/lib/python3.9/site-packages (from qdrant-client) (1.24.2)\n",
      "Collecting httpx[http2]>=0.14.0\n",
      "  Downloading httpx-0.24.0-py3-none-any.whl (75 kB)\n",
      "\u001b[K     |████████████████████████████████| 75 kB 1.7 MB/s  eta 0:00:01\n",
      "\u001b[?25hCollecting grpcio>=1.41.0\n",
      "  Downloading grpcio-1.54.0-cp39-cp39-manylinux_2_17_x86_64.manylinux2014_x86_64.whl (5.1 MB)\n",
      "\u001b[K     |████████████████████████████████| 5.1 MB 15.7 MB/s eta 0:00:01\n",
      "\u001b[?25hRequirement already satisfied: typing-extensions<5.0.0,>=4.0.0 in /home/microshaoft/.local/lib/python3.9/site-packages (from qdrant-client) (4.5.0)\n",
      "Collecting urllib3<2.0.0,>=1.26.14\n",
      "  Downloading urllib3-1.26.15-py2.py3-none-any.whl (140 kB)\n",
      "\u001b[K     |████████████████████████████████| 140 kB 13.1 MB/s eta 0:00:01\n",
      "\u001b[?25hRequirement already satisfied: python-dateutil>=2.8.2 in /home/microshaoft/.local/lib/python3.9/site-packages (from pandas) (2.8.2)\n",
      "Requirement already satisfied: tzdata>=2022.1 in /home/microshaoft/.local/lib/python3.9/site-packages (from pandas) (2023.3)\n",
      "Requirement already satisfied: pytz>=2020.1 in /home/microshaoft/.local/lib/python3.9/site-packages (from pandas) (2023.3)\n",
      "Collecting protobuf<5.0dev,>=4.21.6\n",
      "  Downloading protobuf-4.22.3-cp37-abi3-manylinux2014_x86_64.whl (302 kB)\n",
      "\u001b[K     |████████████████████████████████| 302 kB 15.9 MB/s eta 0:00:01\n",
      "\u001b[?25hRequirement already satisfied: setuptools in /usr/lib/python3/dist-packages (from grpcio-tools>=1.41.0->qdrant-client) (45.2.0)\n",
      "Requirement already satisfied: certifi in /usr/lib/python3/dist-packages (from httpx[http2]>=0.14.0->qdrant-client) (2019.11.28)\n",
      "Collecting sniffio\n",
      "  Downloading sniffio-1.3.0-py3-none-any.whl (10 kB)\n",
      "Requirement already satisfied: idna in /usr/lib/python3/dist-packages (from httpx[http2]>=0.14.0->qdrant-client) (2.8)\n",
      "Collecting httpcore<0.18.0,>=0.15.0\n",
      "  Downloading httpcore-0.17.0-py3-none-any.whl (70 kB)\n",
      "\u001b[K     |████████████████████████████████| 70 kB 7.1 MB/s  eta 0:00:01\n",
      "\u001b[?25hCollecting h2<5,>=3; extra == \"http2\"\n",
      "  Downloading h2-4.1.0-py3-none-any.whl (57 kB)\n",
      "\u001b[K     |████████████████████████████████| 57 kB 2.1 MB/s  eta 0:00:01\n",
      "\u001b[?25hRequirement already satisfied: six>=1.5 in /usr/lib/python3/dist-packages (from python-dateutil>=2.8.2->pandas) (1.14.0)\n",
      "Collecting anyio<5.0,>=3.0\n",
      "  Downloading anyio-3.6.2-py3-none-any.whl (80 kB)\n",
      "\u001b[K     |████████████████████████████████| 80 kB 8.7 MB/s  eta 0:00:01\n",
      "\u001b[?25hCollecting h11<0.15,>=0.13\n",
      "  Downloading h11-0.14.0-py3-none-any.whl (58 kB)\n",
      "\u001b[K     |████████████████████████████████| 58 kB 5.8 MB/s  eta 0:00:01\n",
      "\u001b[?25hCollecting hyperframe<7,>=6.0\n",
      "  Downloading hyperframe-6.0.1-py3-none-any.whl (12 kB)\n",
      "Collecting hpack<5,>=4.0\n",
      "  Downloading hpack-4.0.0-py3-none-any.whl (32 kB)\n",
      "Installing collected packages: grpcio, protobuf, grpcio-tools, pydantic, sniffio, anyio, h11, httpcore, hyperframe, hpack, h2, httpx, urllib3, qdrant-client\n",
      "Successfully installed anyio-3.6.2 grpcio-1.54.0 grpcio-tools-1.54.0 h11-0.14.0 h2-4.1.0 hpack-4.0.0 httpcore-0.17.0 httpx-0.24.0 hyperframe-6.0.1 protobuf-4.22.3 pydantic-1.10.7 qdrant-client-1.1.6 sniffio-1.3.0 urllib3-1.26.15\n"
     ]
    }
   ],
   "source": [
    "! pip install qdrant-client pandas"
   ]
  },
  {
   "cell_type": "markdown",
   "metadata": {},
   "source": [
    "## Connect to Qdrant\n",
    "\n",
    "Connecting to a running instance of Qdrant server is easy with the official Python library:"
   ]
  },
  {
   "cell_type": "code",
   "execution_count": 1,
   "metadata": {
    "ExecuteTime": {
     "end_time": "2023-02-16T12:05:06.827143Z",
     "start_time": "2023-02-16T12:05:05.733771Z"
    }
   },
   "outputs": [],
   "source": [
    "import qdrant_client\n",
    "\n",
    "# import os\n",
    "# os.environ[\"http_proxy\"] = \"http://192.168.0.106:8888\"\n",
    "# os.environ[\"https_proxy\"] = \"http://127.0.0.1:8888\"\n",
    "\n",
    "\n",
    "client = qdrant_client.QdrantClient(\n",
    "    host=\"localhost\",\n",
    "    #  port=6333\n",
    "    prefer_grpc=True,\n",
    ")"
   ]
  },
  {
   "cell_type": "markdown",
   "metadata": {},
   "source": [
    "We can test the connection by running any available method:"
   ]
  },
  {
   "cell_type": "code",
   "execution_count": 2,
   "metadata": {
    "ExecuteTime": {
     "end_time": "2023-02-16T12:05:06.848488Z",
     "start_time": "2023-02-16T12:05:06.832612Z"
    }
   },
   "outputs": [
    {
     "data": {
      "text/plain": [
       "CollectionsResponse(collections=[])"
      ]
     },
     "execution_count": 2,
     "metadata": {},
     "output_type": "execute_result"
    }
   ],
   "source": [
    "client.get_collections()"
   ]
  },
  {
   "cell_type": "markdown",
   "metadata": {},
   "source": [
    "## Load data\n",
    "\n",
    "In this section we are going to load the data prepared previous to this session, so you don't have to recompute the embeddings of Wikipedia articles with your own credits."
   ]
  },
  {
   "cell_type": "markdown",
   "metadata": {},
   "source": [
    "And we can finally load it from the provided CSV file:"
   ]
  },
  {
   "cell_type": "code",
   "execution_count": 3,
   "metadata": {
    "ExecuteTime": {
     "end_time": "2023-02-16T12:17:35.483972Z",
     "start_time": "2023-02-16T12:06:01.540172Z"
    }
   },
   "outputs": [
    {
     "data": {
      "text/html": [
       "<div>\n",
       "<style scoped>\n",
       "    .dataframe tbody tr th:only-of-type {\n",
       "        vertical-align: middle;\n",
       "    }\n",
       "\n",
       "    .dataframe tbody tr th {\n",
       "        vertical-align: top;\n",
       "    }\n",
       "\n",
       "    .dataframe thead th {\n",
       "        text-align: right;\n",
       "    }\n",
       "</style>\n",
       "<table border=\"1\" class=\"dataframe\">\n",
       "  <thead>\n",
       "    <tr style=\"text-align: right;\">\n",
       "      <th></th>\n",
       "      <th>id</th>\n",
       "      <th>url</th>\n",
       "      <th>title</th>\n",
       "      <th>text</th>\n",
       "      <th>title_vector</th>\n",
       "      <th>content_vector</th>\n",
       "      <th>vector_id</th>\n",
       "    </tr>\n",
       "  </thead>\n",
       "  <tbody>\n",
       "    <tr>\n",
       "      <th>0</th>\n",
       "      <td>1</td>\n",
       "      <td>https://simple.wikipedia.org/wiki/April</td>\n",
       "      <td>April</td>\n",
       "      <td>April is the fourth month of the year in the J...</td>\n",
       "      <td>[0.001009464613161981, -0.020700545981526375, ...</td>\n",
       "      <td>[-0.011253940872848034, -0.013491976074874401,...</td>\n",
       "      <td>0</td>\n",
       "    </tr>\n",
       "    <tr>\n",
       "      <th>1</th>\n",
       "      <td>2</td>\n",
       "      <td>https://simple.wikipedia.org/wiki/August</td>\n",
       "      <td>August</td>\n",
       "      <td>August (Aug.) is the eighth month of the year ...</td>\n",
       "      <td>[0.0009286514250561595, 0.000820168002974242, ...</td>\n",
       "      <td>[0.0003609954728744924, 0.007262262050062418, ...</td>\n",
       "      <td>1</td>\n",
       "    </tr>\n",
       "    <tr>\n",
       "      <th>2</th>\n",
       "      <td>6</td>\n",
       "      <td>https://simple.wikipedia.org/wiki/Art</td>\n",
       "      <td>Art</td>\n",
       "      <td>Art is a creative activity that expresses imag...</td>\n",
       "      <td>[0.003393713850528002, 0.0061537534929811954, ...</td>\n",
       "      <td>[-0.004959689453244209, 0.015772193670272827, ...</td>\n",
       "      <td>2</td>\n",
       "    </tr>\n",
       "    <tr>\n",
       "      <th>3</th>\n",
       "      <td>8</td>\n",
       "      <td>https://simple.wikipedia.org/wiki/A</td>\n",
       "      <td>A</td>\n",
       "      <td>A or a is the first letter of the English alph...</td>\n",
       "      <td>[0.0153952119871974, -0.013759135268628597, 0....</td>\n",
       "      <td>[0.024894846603274345, -0.022186409682035446, ...</td>\n",
       "      <td>3</td>\n",
       "    </tr>\n",
       "    <tr>\n",
       "      <th>4</th>\n",
       "      <td>9</td>\n",
       "      <td>https://simple.wikipedia.org/wiki/Air</td>\n",
       "      <td>Air</td>\n",
       "      <td>Air refers to the Earth's atmosphere. Air is a...</td>\n",
       "      <td>[0.02224554680287838, -0.02044147066771984, -0...</td>\n",
       "      <td>[0.021524671465158463, 0.018522677943110466, -...</td>\n",
       "      <td>4</td>\n",
       "    </tr>\n",
       "  </tbody>\n",
       "</table>\n",
       "</div>"
      ],
      "text/plain": [
       "   id                                       url   title   \n",
       "0   1   https://simple.wikipedia.org/wiki/April   April  \\\n",
       "1   2  https://simple.wikipedia.org/wiki/August  August   \n",
       "2   6     https://simple.wikipedia.org/wiki/Art     Art   \n",
       "3   8       https://simple.wikipedia.org/wiki/A       A   \n",
       "4   9     https://simple.wikipedia.org/wiki/Air     Air   \n",
       "\n",
       "                                                text   \n",
       "0  April is the fourth month of the year in the J...  \\\n",
       "1  August (Aug.) is the eighth month of the year ...   \n",
       "2  Art is a creative activity that expresses imag...   \n",
       "3  A or a is the first letter of the English alph...   \n",
       "4  Air refers to the Earth's atmosphere. Air is a...   \n",
       "\n",
       "                                        title_vector   \n",
       "0  [0.001009464613161981, -0.020700545981526375, ...  \\\n",
       "1  [0.0009286514250561595, 0.000820168002974242, ...   \n",
       "2  [0.003393713850528002, 0.0061537534929811954, ...   \n",
       "3  [0.0153952119871974, -0.013759135268628597, 0....   \n",
       "4  [0.02224554680287838, -0.02044147066771984, -0...   \n",
       "\n",
       "                                      content_vector  vector_id  \n",
       "0  [-0.011253940872848034, -0.013491976074874401,...          0  \n",
       "1  [0.0003609954728744924, 0.007262262050062418, ...          1  \n",
       "2  [-0.004959689453244209, 0.015772193670272827, ...          2  \n",
       "3  [0.024894846603274345, -0.022186409682035446, ...          3  \n",
       "4  [0.021524671465158463, 0.018522677943110466, -...          4  "
      ]
     },
     "execution_count": 3,
     "metadata": {},
     "output_type": "execute_result"
    }
   ],
   "source": [
    "import pandas as pd\n",
    "\n",
    "from ast import literal_eval\n",
    "\n",
    "article_df = pd.read_csv('../../data/vector_database_wikipedia_articles_embedded.csv')\n",
    "# Read vectors from strings back into a list\n",
    "article_df[\"title_vector\"] = article_df.title_vector.apply(literal_eval)\n",
    "article_df[\"content_vector\"] = article_df.content_vector.apply(literal_eval)\n",
    "article_df.head()"
   ]
  },
  {
   "cell_type": "markdown",
   "metadata": {},
   "source": [
    "## Index data\n",
    "\n",
    "Qdrant stores data in __collections__ where each object is described by at least one vector and may contain an additional metadata called __payload__. Our collection will be called **Articles** and each object will be described by both **title** and **content** vectors. Qdrant does not require you to set up any kind of schema beforehand, so you can freely put points to the collection with a simple setup only.\n",
    "\n",
    "We will start with creating a collection, and then we will fill it with our precomputed embeddings."
   ]
  },
  {
   "cell_type": "code",
   "execution_count": 4,
   "metadata": {
    "ExecuteTime": {
     "end_time": "2023-02-16T12:17:36.366066Z",
     "start_time": "2023-02-16T12:17:35.486872Z"
    }
   },
   "outputs": [
    {
     "data": {
      "text/plain": [
       "True"
      ]
     },
     "execution_count": 4,
     "metadata": {},
     "output_type": "execute_result"
    }
   ],
   "source": [
    "from qdrant_client.http import models as rest\n",
    "\n",
    "vector_size = len(article_df[\"content_vector\"][0])\n",
    "\n",
    "client.recreate_collection(\n",
    "    collection_name=\"Articles\",\n",
    "    vectors_config={\n",
    "        \"title\": rest.VectorParams(\n",
    "            distance=rest.Distance.COSINE,\n",
    "            size=vector_size,\n",
    "        ),\n",
    "        \"content\": rest.VectorParams(\n",
    "            distance=rest.Distance.COSINE,\n",
    "            size=vector_size,\n",
    "        ),\n",
    "    }\n",
    ")"
   ]
  },
  {
   "cell_type": "code",
   "execution_count": 11,
   "metadata": {},
   "outputs": [
    {
     "ename": "SyntaxError",
     "evalue": "invalid syntax (4270993373.py, line 29)",
     "output_type": "error",
     "traceback": [
      "\u001b[0;36m  Cell \u001b[0;32mIn[11], line 29\u001b[0;36m\u001b[0m\n\u001b[0;31m    for i, vector in enumerate(vectors):\u001b[0m\n\u001b[0m                                       ^\u001b[0m\n\u001b[0;31mSyntaxError\u001b[0m\u001b[0;31m:\u001b[0m invalid syntax\n"
     ]
    }
   ],
   "source": [
    "import numpy as np\n",
    "from qdrant_client.http import models as rest\n",
    "from qdrant_client.models import PointStruct\n",
    "\n",
    "count = 40000\n",
    "dim = 1536\n",
    "vectors = np.random.rand(count, dim).astype(np.float32)\n",
    "vectors2 = np.random.rand(count, dim).astype(np.float32)\n",
    "\n",
    "idBase = 25000\n",
    "\n",
    "client.upsert(\n",
    "    collection_name=\"Articles\",\n",
    "    points=[\n",
    "        rest.PointStruct(\n",
    "            id = i + idBase,\n",
    "            vector={\n",
    "                \"title\": vector.tolist(),\n",
    "                \"content\": vectors2[i].tolist(),\n",
    "            },\n",
    "            payload = {\n",
    "                \"id\": i + idBase,\n",
    "                \"text\" : \"text {0}\".format(i + idBase),\n",
    "                \"title\": \"title {0}\".format(i + idBase),\n",
    "                \"url\": \"http://www.baidu.com/?{0}\".format(i + idBase),\n",
    "                \"vector_id\": i + idBase\n",
    "            }\n",
    "        )\n",
    "        for i, vector in enumerate(vectors)\n",
    "    ],\n",
    ")"
   ]
  },
  {
   "cell_type": "code",
   "execution_count": 5,
   "metadata": {
    "ExecuteTime": {
     "end_time": "2023-02-16T12:30:37.518210Z",
     "start_time": "2023-02-16T12:17:36.368564Z"
    }
   },
   "outputs": [
    {
     "data": {
      "text/plain": [
       "UpdateResult(operation_id=0, status=<UpdateStatus.COMPLETED: 'completed'>)"
      ]
     },
     "execution_count": 5,
     "metadata": {},
     "output_type": "execute_result"
    }
   ],
   "source": [
    "client.upsert(\n",
    "    collection_name=\"Articles\",\n",
    "    points=[\n",
    "        rest.PointStruct(\n",
    "            id=k,\n",
    "            vector={\n",
    "                \"title\": v[\"title_vector\"],\n",
    "                \"content\": v[\"content_vector\"],\n",
    "            },\n",
    "            payload=v.to_dict(),\n",
    "        )\n",
    "        for k, v in article_df.iterrows()\n",
    "    ],\n",
    ")"
   ]
  },
  {
   "cell_type": "code",
   "execution_count": 6,
   "metadata": {
    "ExecuteTime": {
     "end_time": "2023-02-16T12:30:40.675202Z",
     "start_time": "2023-02-16T12:30:40.655654Z"
    }
   },
   "outputs": [
    {
     "data": {
      "text/plain": [
       "CountResult(count=25000)"
      ]
     },
     "execution_count": 6,
     "metadata": {},
     "output_type": "execute_result"
    }
   ],
   "source": [
    "# Check the collection size to make sure all the points have been stored\n",
    "client.count(collection_name=\"Articles\")"
   ]
  },
  {
   "cell_type": "markdown",
   "metadata": {},
   "source": [
    "## Search data\n",
    "\n",
    "Once the data is put into Qdrant we will start querying the collection for the closest vectors. We may provide an additional parameter `vector_name` to switch from title to content based search. Since the precomputed embeddings were created with `text-embedding-ada-002` OpenAI model we also have to use it during search.\n"
   ]
  },
  {
   "cell_type": "code",
   "execution_count": 6,
   "metadata": {
    "ExecuteTime": {
     "end_time": "2023-02-16T12:30:38.024370Z",
     "start_time": "2023-02-16T12:30:37.712816Z"
    }
   },
   "outputs": [],
   "source": [
    "# import openai\n",
    "import numpy as np\n",
    "\n",
    "\n",
    "def query_qdrant(query, collection_name, vector_name=\"title\", top_k=20):\n",
    "    # Creates embedding vector from user query\n",
    "    # embedded_query = openai.Embedding.create(\n",
    "    #     input=query,\n",
    "    #     model=\"text-embedding-ada-002\",\n",
    "    # )[\"data\"][0][\"embedding\"]\n",
    "\n",
    "    # 生成随机浮点数数组\n",
    "    arr = np.random.rand(1536).astype(np.float32).tolist()\n",
    "\n",
    "\n",
    "    query_results = client.search(\n",
    "        collection_name=collection_name,\n",
    "        query_vector=(\n",
    "            vector_name,  arr #embedded_query\n",
    "        ),\n",
    "        limit=top_k,\n",
    "    )\n",
    "\n",
    "    return query_results"
   ]
  },
  {
   "cell_type": "code",
   "execution_count": 17,
   "metadata": {
    "ExecuteTime": {
     "end_time": "2023-02-16T12:30:39.379566Z",
     "start_time": "2023-02-16T12:30:38.031041Z"
    }
   },
   "outputs": [
    {
     "name": "stdout",
     "output_type": "stream",
     "text": [
      "1. title 18862 (Score: 0.78)\n",
      "2. title 28128 (Score: 0.78)\n",
      "3. title 7307 (Score: 0.779)\n",
      "4. title 32357 (Score: 0.778)\n",
      "5. title 35346 (Score: 0.777)\n",
      "6. title 22915 (Score: 0.776)\n",
      "7. title 10949 (Score: 0.775)\n",
      "8. title 16399 (Score: 0.775)\n",
      "9. title 20487 (Score: 0.775)\n",
      "10. title 10643 (Score: 0.775)\n",
      "11. title 18689 (Score: 0.775)\n",
      "12. title 36154 (Score: 0.774)\n",
      "13. title 36977 (Score: 0.774)\n",
      "14. title 24123 (Score: 0.774)\n",
      "15. title 44680 (Score: 0.774)\n",
      "16. title 42819 (Score: 0.774)\n",
      "17. title 3273 (Score: 0.774)\n",
      "18. title 34529 (Score: 0.774)\n",
      "19. title 36683 (Score: 0.774)\n",
      "20. title 17964 (Score: 0.773)\n"
     ]
    }
   ],
   "source": [
    "# import os\n",
    "# os.environ[\"http_proxy\"] = \"\"\n",
    "# \"http://127.0.0.1:1231\"\n",
    "# os.environ[\"https_proxy\"] = \"\"\n",
    "# \"http://127.0.0.1:1231\"\n",
    "\n",
    "\n",
    "query_results = query_qdrant(\"modern art in Europe\", \"Articles\")\n",
    "for i, article in enumerate(query_results):\n",
    "    print(f\"{i + 1}. {article.payload['title']} (Score: {round(article.score, 3)})\")"
   ]
  },
  {
   "cell_type": "code",
   "execution_count": 41,
   "metadata": {
    "ExecuteTime": {
     "end_time": "2023-02-16T12:30:40.652676Z",
     "start_time": "2023-02-16T12:30:39.382555Z"
    }
   },
   "outputs": [
    {
     "ename": "ValidationError",
     "evalue": "1 validation error for NamedVector\nvector\n  value is not a valid list (type=type_error.list)",
     "output_type": "error",
     "traceback": [
      "\u001b[0;31m---------------------------------------------------------------------------\u001b[0m",
      "\u001b[0;31mValidationError\u001b[0m                           Traceback (most recent call last)",
      "Cell \u001b[0;32mIn[41], line 5\u001b[0m\n\u001b[1;32m      1\u001b[0m \u001b[39m# import os\u001b[39;00m\n\u001b[1;32m      2\u001b[0m \u001b[39m# os.environ[\"http_proxy\"] = \"http://192.168.0.106:8888\"\u001b[39;00m\n\u001b[1;32m      3\u001b[0m \n\u001b[1;32m      4\u001b[0m \u001b[39m# This time we'll query using content vector\u001b[39;00m\n\u001b[0;32m----> 5\u001b[0m query_results \u001b[39m=\u001b[39m query_qdrant(\u001b[39m\"\u001b[39;49m\u001b[39mFamous battles in Scottish history\u001b[39;49m\u001b[39m\"\u001b[39;49m, \u001b[39m\"\u001b[39;49m\u001b[39mArticles\u001b[39;49m\u001b[39m\"\u001b[39;49m, \u001b[39m\"\u001b[39;49m\u001b[39mcontent\u001b[39;49m\u001b[39m\"\u001b[39;49m)\n\u001b[1;32m      6\u001b[0m \u001b[39mfor\u001b[39;00m i, article \u001b[39min\u001b[39;00m \u001b[39menumerate\u001b[39m(query_results):\n\u001b[1;32m      7\u001b[0m     \u001b[39mprint\u001b[39m(\u001b[39mf\u001b[39m\u001b[39m\"\u001b[39m\u001b[39m{\u001b[39;00mi\u001b[39m \u001b[39m\u001b[39m+\u001b[39m\u001b[39m \u001b[39m\u001b[39m1\u001b[39m\u001b[39m}\u001b[39;00m\u001b[39m. \u001b[39m\u001b[39m{\u001b[39;00marticle\u001b[39m.\u001b[39mpayload[\u001b[39m'\u001b[39m\u001b[39mtitle\u001b[39m\u001b[39m'\u001b[39m]\u001b[39m}\u001b[39;00m\u001b[39m (Score: \u001b[39m\u001b[39m{\u001b[39;00m\u001b[39mround\u001b[39m(article\u001b[39m.\u001b[39mscore,\u001b[39m \u001b[39m\u001b[39m3\u001b[39m)\u001b[39m}\u001b[39;00m\u001b[39m)\u001b[39m\u001b[39m\"\u001b[39m)\n",
      "Cell \u001b[0;32mIn[38], line 16\u001b[0m, in \u001b[0;36mquery_qdrant\u001b[0;34m(query, collection_name, vector_name, top_k)\u001b[0m\n\u001b[1;32m      5\u001b[0m \u001b[39mdef\u001b[39;00m \u001b[39mquery_qdrant\u001b[39m(query, collection_name, vector_name\u001b[39m=\u001b[39m\u001b[39m\"\u001b[39m\u001b[39mtitle\u001b[39m\u001b[39m\"\u001b[39m, top_k\u001b[39m=\u001b[39m\u001b[39m20\u001b[39m):\n\u001b[1;32m      6\u001b[0m     \u001b[39m# Creates embedding vector from user query\u001b[39;00m\n\u001b[1;32m      7\u001b[0m     \u001b[39m# embedded_query = openai.Embedding.create(\u001b[39;00m\n\u001b[0;32m   (...)\u001b[0m\n\u001b[1;32m     11\u001b[0m \n\u001b[1;32m     12\u001b[0m     \u001b[39m# 生成随机浮点数数组\u001b[39;00m\n\u001b[1;32m     13\u001b[0m     arr \u001b[39m=\u001b[39m np\u001b[39m.\u001b[39mrandom\u001b[39m.\u001b[39mrand(\u001b[39m1536\u001b[39m)\u001b[39m.\u001b[39mastype(np\u001b[39m.\u001b[39mfloat32)\n\u001b[0;32m---> 16\u001b[0m     query_results \u001b[39m=\u001b[39m client\u001b[39m.\u001b[39;49msearch(\n\u001b[1;32m     17\u001b[0m         collection_name\u001b[39m=\u001b[39;49mcollection_name,\n\u001b[1;32m     18\u001b[0m         query_vector\u001b[39m=\u001b[39;49m(\n\u001b[1;32m     19\u001b[0m             vector_name,  arr \u001b[39m#embedded_query\u001b[39;49;00m\n\u001b[1;32m     20\u001b[0m         ),\n\u001b[1;32m     21\u001b[0m         limit\u001b[39m=\u001b[39;49mtop_k,\n\u001b[1;32m     22\u001b[0m     )\n\u001b[1;32m     24\u001b[0m     \u001b[39mreturn\u001b[39;00m query_results\n",
      "File \u001b[0;32m~/.local/lib/python3.9/site-packages/qdrant_client/qdrant_client.py:277\u001b[0m, in \u001b[0;36mQdrantClient.search\u001b[0;34m(self, collection_name, query_vector, query_filter, search_params, limit, offset, with_payload, with_vectors, score_threshold, append_payload, consistency, **kwargs)\u001b[0m\n\u001b[1;32m    196\u001b[0m \u001b[39mdef\u001b[39;00m \u001b[39msearch\u001b[39m(\n\u001b[1;32m    197\u001b[0m     \u001b[39mself\u001b[39m,\n\u001b[1;32m    198\u001b[0m     collection_name: \u001b[39mstr\u001b[39m,\n\u001b[0;32m   (...)\u001b[0m\n\u001b[1;32m    211\u001b[0m     \u001b[39m*\u001b[39m\u001b[39m*\u001b[39mkwargs: Any,\n\u001b[1;32m    212\u001b[0m ) \u001b[39m-\u001b[39m\u001b[39m>\u001b[39m List[types\u001b[39m.\u001b[39mScoredPoint]:\n\u001b[1;32m    213\u001b[0m \u001b[39m    \u001b[39m\u001b[39m\"\"\"Search for closest vectors in collection taking into account filtering conditions\u001b[39;00m\n\u001b[1;32m    214\u001b[0m \n\u001b[1;32m    215\u001b[0m \u001b[39m    Args:\u001b[39;00m\n\u001b[0;32m   (...)\u001b[0m\n\u001b[1;32m    275\u001b[0m \u001b[39m        List of found close points with similarity scores.\u001b[39;00m\n\u001b[1;32m    276\u001b[0m \u001b[39m    \"\"\"\u001b[39;00m\n\u001b[0;32m--> 277\u001b[0m     \u001b[39mreturn\u001b[39;00m \u001b[39mself\u001b[39;49m\u001b[39m.\u001b[39;49m_client\u001b[39m.\u001b[39;49msearch(\n\u001b[1;32m    278\u001b[0m         collection_name\u001b[39m=\u001b[39;49mcollection_name,\n\u001b[1;32m    279\u001b[0m         query_vector\u001b[39m=\u001b[39;49mquery_vector,\n\u001b[1;32m    280\u001b[0m         query_filter\u001b[39m=\u001b[39;49mquery_filter,\n\u001b[1;32m    281\u001b[0m         search_params\u001b[39m=\u001b[39;49msearch_params,\n\u001b[1;32m    282\u001b[0m         limit\u001b[39m=\u001b[39;49mlimit,\n\u001b[1;32m    283\u001b[0m         offset\u001b[39m=\u001b[39;49moffset,\n\u001b[1;32m    284\u001b[0m         with_payload\u001b[39m=\u001b[39;49mwith_payload,\n\u001b[1;32m    285\u001b[0m         with_vectors\u001b[39m=\u001b[39;49mwith_vectors,\n\u001b[1;32m    286\u001b[0m         score_threshold\u001b[39m=\u001b[39;49mscore_threshold,\n\u001b[1;32m    287\u001b[0m         append_payload\u001b[39m=\u001b[39;49mappend_payload,\n\u001b[1;32m    288\u001b[0m         consistency\u001b[39m=\u001b[39;49mconsistency,\n\u001b[1;32m    289\u001b[0m         \u001b[39m*\u001b[39;49m\u001b[39m*\u001b[39;49mkwargs,\n\u001b[1;32m    290\u001b[0m     )\n",
      "File \u001b[0;32m~/.local/lib/python3.9/site-packages/qdrant_client/qdrant_remote.py:449\u001b[0m, in \u001b[0;36mQdrantRemote.search\u001b[0;34m(self, collection_name, query_vector, query_filter, search_params, limit, offset, with_payload, with_vectors, score_threshold, append_payload, consistency, **kwargs)\u001b[0m\n\u001b[1;32m    447\u001b[0m \u001b[39melse\u001b[39;00m:\n\u001b[1;32m    448\u001b[0m     \u001b[39mif\u001b[39;00m \u001b[39misinstance\u001b[39m(query_vector, \u001b[39mtuple\u001b[39m):\n\u001b[0;32m--> 449\u001b[0m         query_vector \u001b[39m=\u001b[39m types\u001b[39m.\u001b[39;49mNamedVector(name\u001b[39m=\u001b[39;49mquery_vector[\u001b[39m0\u001b[39;49m], vector\u001b[39m=\u001b[39;49mquery_vector[\u001b[39m1\u001b[39;49m])\n\u001b[1;32m    451\u001b[0m     \u001b[39mif\u001b[39;00m \u001b[39misinstance\u001b[39m(query_filter, grpc\u001b[39m.\u001b[39mFilter):\n\u001b[1;32m    452\u001b[0m         query_filter \u001b[39m=\u001b[39m GrpcToRest\u001b[39m.\u001b[39mconvert_filter(model\u001b[39m=\u001b[39mquery_filter)\n",
      "File \u001b[0;32m~/.local/lib/python3.9/site-packages/pydantic/main.py:341\u001b[0m, in \u001b[0;36mpydantic.main.BaseModel.__init__\u001b[0;34m()\u001b[0m\n",
      "\u001b[0;31mValidationError\u001b[0m: 1 validation error for NamedVector\nvector\n  value is not a valid list (type=type_error.list)"
     ]
    }
   ],
   "source": [
    "\n",
    "# import os\n",
    "# os.environ[\"http_proxy\"] = \"http://192.168.0.106:8888\"\n",
    "\n",
    "# This time we'll query using content vector\n",
    "query_results = query_qdrant(\"Famous battles in Scottish history\", \"Articles\", \"content\")\n",
    "for i, article in enumerate(query_results):\n",
    "    print(f\"{i + 1}. {article.payload['title']} (Score: {round(article.score, 3)})\")"
   ]
  }
 ],
 "metadata": {
  "kernelspec": {
   "display_name": "Python 3 (ipykernel)",
   "language": "python",
   "name": "python3"
  },
  "language_info": {
   "codemirror_mode": {
    "name": "ipython",
    "version": 3
   },
   "file_extension": ".py",
   "mimetype": "text/x-python",
   "name": "python",
   "nbconvert_exporter": "python",
   "pygments_lexer": "ipython3",
   "version": "3.8.10"
  }
 },
 "nbformat": 4,
 "nbformat_minor": 1
}
